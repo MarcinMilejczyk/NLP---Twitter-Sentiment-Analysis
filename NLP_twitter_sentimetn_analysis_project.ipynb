{
  "nbformat": 4,
  "nbformat_minor": 0,
  "metadata": {
    "colab": {
      "provenance": [],
      "collapsed_sections": [
        "eNirGMjTEAWy",
        "ZooCZ3U6hgxk",
        "t7GkCkQ69-BX"
      ]
    },
    "kernelspec": {
      "name": "python3",
      "display_name": "Python 3"
    },
    "language_info": {
      "name": "python"
    },
    "gpuClass": "standard",
    "accelerator": "GPU"
  },
  "cells": [
    {
      "cell_type": "code",
      "execution_count": null,
      "metadata": {
        "id": "KarfDZgSuwwX"
      },
      "outputs": [],
      "source": [
        "import nltk                                  # Python library for NLP\n",
        "from nltk.corpus import twitter_samples      # sample Twitter dataset from NLTK\n",
        "import matplotlib.pyplot as plt              # visualization library\n",
        "import numpy as np                           # library for scientific computing and matrix operations"
      ]
    },
    {
      "cell_type": "code",
      "source": [
        "nltk.download('twitter_samples')"
      ],
      "metadata": {
        "colab": {
          "base_uri": "https://localhost:8080/"
        },
        "id": "aA97T-NMB96l",
        "outputId": "089a92d5-4e62-4762-9e55-1b29a2f620ba"
      },
      "execution_count": null,
      "outputs": [
        {
          "output_type": "stream",
          "name": "stderr",
          "text": [
            "[nltk_data] Downloading package twitter_samples to /root/nltk_data...\n",
            "[nltk_data]   Package twitter_samples is already up-to-date!\n"
          ]
        },
        {
          "output_type": "execute_result",
          "data": {
            "text/plain": [
              "True"
            ]
          },
          "metadata": {},
          "execution_count": 284
        }
      ]
    },
    {
      "cell_type": "code",
      "source": [
        "import numpy as np\n",
        "import pandas as pd\n",
        "from nltk.corpus import twitter_samples \n",
        "\n",
        "# download the stopwords for the process_tweet function\n",
        "nltk.download('stopwords')\n",
        "\n",
        "import re                                  # library for regular expression operations\n",
        "import string                              # for string operations\n",
        "\n",
        "from nltk.corpus import stopwords          # module for stop words that come with NLTK\n",
        "from nltk.stem import PorterStemmer        # module for stemming\n",
        "from nltk.tokenize import TweetTokenizer   # module for tokenizing strings"
      ],
      "metadata": {
        "colab": {
          "base_uri": "https://localhost:8080/"
        },
        "id": "gHufSDrbCbUT",
        "outputId": "8f399ad0-4cae-4ad1-eafd-63580ae8d39a"
      },
      "execution_count": null,
      "outputs": [
        {
          "output_type": "stream",
          "name": "stderr",
          "text": [
            "[nltk_data] Downloading package stopwords to /root/nltk_data...\n",
            "[nltk_data]   Package stopwords is already up-to-date!\n"
          ]
        }
      ]
    },
    {
      "cell_type": "code",
      "source": [
        "all_positive_tweets = twitter_samples.strings('positive_tweets.json')\n",
        "all_negative_tweets = twitter_samples.strings('negative_tweets.json')\n",
        "\n",
        "tweets = all_positive_tweets + all_negative_tweets"
      ],
      "metadata": {
        "id": "nhUliR8LvSOh"
      },
      "execution_count": null,
      "outputs": []
    },
    {
      "cell_type": "code",
      "source": [
        "print(f'Ilość pozytywnych tweetów: {len(all_positive_tweets)}')\n",
        "print(f'Ilość negatywnych tweetów: {len(all_negative_tweets)}')"
      ],
      "metadata": {
        "colab": {
          "base_uri": "https://localhost:8080/"
        },
        "id": "AOCH3SmVyWv2",
        "outputId": "980ea700-13b9-4890-c3fa-39cba1435fc1"
      },
      "execution_count": null,
      "outputs": [
        {
          "output_type": "stream",
          "name": "stdout",
          "text": [
            "Ilość pozytywnych tweetów: 5000\n",
            "Ilość negatywnych tweetów: 5000\n"
          ]
        }
      ]
    },
    {
      "cell_type": "code",
      "source": [
        "labels = np.append(np.ones((len(all_positive_tweets))), np.zeros((len(all_negative_tweets))))"
      ],
      "metadata": {
        "id": "lqpg6-wlvuBC"
      },
      "execution_count": null,
      "outputs": []
    },
    {
      "cell_type": "markdown",
      "source": [
        "Dzielenie zbioru na treningowy (80%) i testowy (20%)\n"
      ],
      "metadata": {
        "id": "gpincwaGzXxU"
      }
    },
    {
      "cell_type": "code",
      "source": [
        "train_pos = all_positive_tweets[:4000]\n",
        "train_neg = all_negative_tweets[:4000]\n",
        "test_pos = all_positive_tweets[4000:]\n",
        "test_neg = all_negative_tweets[4000:]\n",
        "\n",
        "X_train = train_pos + train_neg \n",
        "X_test = test_pos + test_neg"
      ],
      "metadata": {
        "id": "2j6Pg7h5widB"
      },
      "execution_count": null,
      "outputs": []
    },
    {
      "cell_type": "markdown",
      "source": [
        "Tworzenie labelek pozytywnych i negatywnych\n",
        "\n"
      ],
      "metadata": {
        "id": "sHOyLFaDy23k"
      }
    },
    {
      "cell_type": "code",
      "source": [
        "y_train = np.concatenate([\n",
        "    np.ones(len(train_pos)),\n",
        "    np.zeros(len(train_neg))\n",
        "])\n",
        "\n",
        "y_test = np.concatenate([\n",
        "    np.ones(len(test_pos)),\n",
        "    np.zeros(len(test_neg))\n",
        "])"
      ],
      "metadata": {
        "id": "5zB1ppuryyM_"
      },
      "execution_count": null,
      "outputs": []
    },
    {
      "cell_type": "code",
      "source": [
        "print(\"y_train.shape = \" + str(y_train.shape))\n",
        "print(\"y_test.shape = \" + str(y_test.shape))"
      ],
      "metadata": {
        "colab": {
          "base_uri": "https://localhost:8080/"
        },
        "id": "HtUb4RLW0YYK",
        "outputId": "11733ea9-a4c8-4e97-c1dd-cb60a7f147d6"
      },
      "execution_count": null,
      "outputs": [
        {
          "output_type": "stream",
          "name": "stdout",
          "text": [
            "y_train.shape = (8000,)\n",
            "y_test.shape = (2000,)\n"
          ]
        }
      ]
    },
    {
      "cell_type": "code",
      "source": [
        "X_train[:2]"
      ],
      "metadata": {
        "id": "Vet81S-Y7xMn",
        "colab": {
          "base_uri": "https://localhost:8080/"
        },
        "outputId": "8216be35-0aad-4b81-f1fa-01b0c595dd95"
      },
      "execution_count": null,
      "outputs": [
        {
          "output_type": "execute_result",
          "data": {
            "text/plain": [
              "['#FollowFriday @France_Inte @PKuchly57 @Milipol_Paris for being top engaged members in my community this week :)',\n",
              " '@Lamb2ja Hey James! How odd :/ Please call our Contact Centre on 02392441234 and we will be able to assist you :) Many thanks!']"
            ]
          },
          "metadata": {},
          "execution_count": 292
        }
      ]
    },
    {
      "cell_type": "code",
      "source": [
        "!python -m spacy download en_core_web_sm"
      ],
      "metadata": {
        "id": "GNLaxnQJDBaz"
      },
      "execution_count": null,
      "outputs": []
    },
    {
      "cell_type": "code",
      "source": [
        "import spacy\n",
        "from spacy import displacy"
      ],
      "metadata": {
        "id": "nmGPovLuDeU_"
      },
      "execution_count": null,
      "outputs": []
    },
    {
      "cell_type": "markdown",
      "source": [
        "## Normalizacja"
      ],
      "metadata": {
        "id": "A6r7pJYuDLWJ"
      }
    },
    {
      "cell_type": "code",
      "source": [
        "import re\n",
        "\n",
        "def process_tweet(tweet):\n",
        "   \n",
        "    stemmer = PorterStemmer()\n",
        "    stopwords_english = stopwords.words('english')\n",
        "    \n",
        "    # remove stock market tickers like $GE\n",
        "    tweet = re.sub(r'\\$\\w*', ' ', tweet)\n",
        "    \n",
        "    # remove old style retweet text \"RT\"\n",
        "    tweet = re.sub(r'^RT[\\s]+', ' ', tweet)\n",
        "    \n",
        "    # remove hyperlinks\n",
        "    tweet = re.sub(r'https?:\\/\\/.*[\\r\\n]*', ' ', tweet)\n",
        "    \n",
        "    # remove hashtags\n",
        "    # only removing the hash # sign from the word\n",
        "    tweet = re.sub(r'#', '', tweet)\n",
        "    \n",
        "    #remove username\n",
        "    tweet = re.sub(r'@([A-Za-z]+[A-Za-z0-9]+)', ' ', tweet)\n",
        "\n",
        "    tweet = re.sub(r'\\n', ' ', tweet)\n",
        "    \n",
        "    tweet = tweet.replace('<br />', ' ')\n",
        "\n",
        "    #to lower case\n",
        "    tweet = tweet.lower()\n",
        "\n",
        "    tokenizer = TweetTokenizer(preserve_case=False, strip_handles=True,\n",
        "                               reduce_len=True)\n",
        "    tweet_tokens = tokenizer.tokenize(tweet)\n",
        "\n",
        "    tweets_clean = \"\"\n",
        "    for word in tweet_tokens:\n",
        "        if (word not in stopwords_english and  # remove stopwords\n",
        "                word not in string.punctuation):  # remove punctuation\n",
        "            # tweets_clean.append(word)\n",
        "            stem_word = stemmer.stem(word)  # stemming word\n",
        "            tweets_clean += str(stem_word)\n",
        "\n",
        "    return tweet\n",
        "\n",
        "\n",
        "X_train_norm = [process_tweet(x) for x in X_train]\n",
        "X_test_norm = [process_tweet(x) for x in X_test]\n",
        "\n"
      ],
      "metadata": {
        "id": "Opun7fb7Di5H"
      },
      "execution_count": null,
      "outputs": []
    },
    {
      "cell_type": "code",
      "source": [
        "X_train_norm[:2]"
      ],
      "metadata": {
        "colab": {
          "base_uri": "https://localhost:8080/"
        },
        "id": "xJJ1egcjEQmE",
        "outputId": "9c322995-4a96-4cec-ea78-7f85367eb220"
      },
      "execution_count": null,
      "outputs": [
        {
          "output_type": "execute_result",
          "data": {
            "text/plain": [
              "['followfriday  _inte    _paris for being top engaged members in my community this week :)',\n",
              " '  hey james! how odd :/ please call our contact centre on 02392441234 and we will be able to assist you :) many thanks!']"
            ]
          },
          "metadata": {},
          "execution_count": 296
        }
      ]
    },
    {
      "cell_type": "code",
      "source": [
        "df_train = pd.DataFrame(\n",
        "    {'X': X_train_norm, 'y':y_train.astype(int)}\n",
        ")\n",
        "df_train = df_train.sample(frac=1.0)\n",
        "df_train"
      ],
      "metadata": {
        "colab": {
          "base_uri": "https://localhost:8080/",
          "height": 424
        },
        "id": "jf59wgawEVpe",
        "outputId": "8617fa71-e629-4676-e6fb-15d53a331937"
      },
      "execution_count": null,
      "outputs": [
        {
          "output_type": "execute_result",
          "data": {
            "text/plain": [
              "                                                      X  y\n",
              "643   brijresidency is a g+6 stories structure with ...  1\n",
              "4764              _based is that you? what happened? :(  0\n",
              "5246  esnho: why the \"node15 - advanced directx11 sh...  0\n",
              "490               thanks manthan! stay tuned with us :)  1\n",
              "3265  celebrate end of work week!:) invite your frie...  1\n",
              "...                                                 ... ..\n",
              "1184  telling people at kfc to go buy \"she's kinda h...  1\n",
              "6371                                        but why? :(  0\n",
              "2284                           my town's sister town :d  1\n",
              "7110  my kik - gion886 kik kikhorny teens talk nsfw ...  0\n",
              "1615  so ready for the weekend. race track saturday ...  1\n",
              "\n",
              "[8000 rows x 2 columns]"
            ],
            "text/html": [
              "\n",
              "  <div id=\"df-04bda2b5-07de-4ba0-9419-5e300dde26a4\">\n",
              "    <div class=\"colab-df-container\">\n",
              "      <div>\n",
              "<style scoped>\n",
              "    .dataframe tbody tr th:only-of-type {\n",
              "        vertical-align: middle;\n",
              "    }\n",
              "\n",
              "    .dataframe tbody tr th {\n",
              "        vertical-align: top;\n",
              "    }\n",
              "\n",
              "    .dataframe thead th {\n",
              "        text-align: right;\n",
              "    }\n",
              "</style>\n",
              "<table border=\"1\" class=\"dataframe\">\n",
              "  <thead>\n",
              "    <tr style=\"text-align: right;\">\n",
              "      <th></th>\n",
              "      <th>X</th>\n",
              "      <th>y</th>\n",
              "    </tr>\n",
              "  </thead>\n",
              "  <tbody>\n",
              "    <tr>\n",
              "      <th>643</th>\n",
              "      <td>brijresidency is a g+6 stories structure with ...</td>\n",
              "      <td>1</td>\n",
              "    </tr>\n",
              "    <tr>\n",
              "      <th>4764</th>\n",
              "      <td>_based is that you? what happened? :(</td>\n",
              "      <td>0</td>\n",
              "    </tr>\n",
              "    <tr>\n",
              "      <th>5246</th>\n",
              "      <td>esnho: why the \"node15 - advanced directx11 sh...</td>\n",
              "      <td>0</td>\n",
              "    </tr>\n",
              "    <tr>\n",
              "      <th>490</th>\n",
              "      <td>thanks manthan! stay tuned with us :)</td>\n",
              "      <td>1</td>\n",
              "    </tr>\n",
              "    <tr>\n",
              "      <th>3265</th>\n",
              "      <td>celebrate end of work week!:) invite your frie...</td>\n",
              "      <td>1</td>\n",
              "    </tr>\n",
              "    <tr>\n",
              "      <th>...</th>\n",
              "      <td>...</td>\n",
              "      <td>...</td>\n",
              "    </tr>\n",
              "    <tr>\n",
              "      <th>1184</th>\n",
              "      <td>telling people at kfc to go buy \"she's kinda h...</td>\n",
              "      <td>1</td>\n",
              "    </tr>\n",
              "    <tr>\n",
              "      <th>6371</th>\n",
              "      <td>but why? :(</td>\n",
              "      <td>0</td>\n",
              "    </tr>\n",
              "    <tr>\n",
              "      <th>2284</th>\n",
              "      <td>my town's sister town :d</td>\n",
              "      <td>1</td>\n",
              "    </tr>\n",
              "    <tr>\n",
              "      <th>7110</th>\n",
              "      <td>my kik - gion886 kik kikhorny teens talk nsfw ...</td>\n",
              "      <td>0</td>\n",
              "    </tr>\n",
              "    <tr>\n",
              "      <th>1615</th>\n",
              "      <td>so ready for the weekend. race track saturday ...</td>\n",
              "      <td>1</td>\n",
              "    </tr>\n",
              "  </tbody>\n",
              "</table>\n",
              "<p>8000 rows × 2 columns</p>\n",
              "</div>\n",
              "      <button class=\"colab-df-convert\" onclick=\"convertToInteractive('df-04bda2b5-07de-4ba0-9419-5e300dde26a4')\"\n",
              "              title=\"Convert this dataframe to an interactive table.\"\n",
              "              style=\"display:none;\">\n",
              "        \n",
              "  <svg xmlns=\"http://www.w3.org/2000/svg\" height=\"24px\"viewBox=\"0 0 24 24\"\n",
              "       width=\"24px\">\n",
              "    <path d=\"M0 0h24v24H0V0z\" fill=\"none\"/>\n",
              "    <path d=\"M18.56 5.44l.94 2.06.94-2.06 2.06-.94-2.06-.94-.94-2.06-.94 2.06-2.06.94zm-11 1L8.5 8.5l.94-2.06 2.06-.94-2.06-.94L8.5 2.5l-.94 2.06-2.06.94zm10 10l.94 2.06.94-2.06 2.06-.94-2.06-.94-.94-2.06-.94 2.06-2.06.94z\"/><path d=\"M17.41 7.96l-1.37-1.37c-.4-.4-.92-.59-1.43-.59-.52 0-1.04.2-1.43.59L10.3 9.45l-7.72 7.72c-.78.78-.78 2.05 0 2.83L4 21.41c.39.39.9.59 1.41.59.51 0 1.02-.2 1.41-.59l7.78-7.78 2.81-2.81c.8-.78.8-2.07 0-2.86zM5.41 20L4 18.59l7.72-7.72 1.47 1.35L5.41 20z\"/>\n",
              "  </svg>\n",
              "      </button>\n",
              "      \n",
              "  <style>\n",
              "    .colab-df-container {\n",
              "      display:flex;\n",
              "      flex-wrap:wrap;\n",
              "      gap: 12px;\n",
              "    }\n",
              "\n",
              "    .colab-df-convert {\n",
              "      background-color: #E8F0FE;\n",
              "      border: none;\n",
              "      border-radius: 50%;\n",
              "      cursor: pointer;\n",
              "      display: none;\n",
              "      fill: #1967D2;\n",
              "      height: 32px;\n",
              "      padding: 0 0 0 0;\n",
              "      width: 32px;\n",
              "    }\n",
              "\n",
              "    .colab-df-convert:hover {\n",
              "      background-color: #E2EBFA;\n",
              "      box-shadow: 0px 1px 2px rgba(60, 64, 67, 0.3), 0px 1px 3px 1px rgba(60, 64, 67, 0.15);\n",
              "      fill: #174EA6;\n",
              "    }\n",
              "\n",
              "    [theme=dark] .colab-df-convert {\n",
              "      background-color: #3B4455;\n",
              "      fill: #D2E3FC;\n",
              "    }\n",
              "\n",
              "    [theme=dark] .colab-df-convert:hover {\n",
              "      background-color: #434B5C;\n",
              "      box-shadow: 0px 1px 3px 1px rgba(0, 0, 0, 0.15);\n",
              "      filter: drop-shadow(0px 1px 2px rgba(0, 0, 0, 0.3));\n",
              "      fill: #FFFFFF;\n",
              "    }\n",
              "  </style>\n",
              "\n",
              "      <script>\n",
              "        const buttonEl =\n",
              "          document.querySelector('#df-04bda2b5-07de-4ba0-9419-5e300dde26a4 button.colab-df-convert');\n",
              "        buttonEl.style.display =\n",
              "          google.colab.kernel.accessAllowed ? 'block' : 'none';\n",
              "\n",
              "        async function convertToInteractive(key) {\n",
              "          const element = document.querySelector('#df-04bda2b5-07de-4ba0-9419-5e300dde26a4');\n",
              "          const dataTable =\n",
              "            await google.colab.kernel.invokeFunction('convertToInteractive',\n",
              "                                                     [key], {});\n",
              "          if (!dataTable) return;\n",
              "\n",
              "          const docLinkHtml = 'Like what you see? Visit the ' +\n",
              "            '<a target=\"_blank\" href=https://colab.research.google.com/notebooks/data_table.ipynb>data table notebook</a>'\n",
              "            + ' to learn more about interactive tables.';\n",
              "          element.innerHTML = '';\n",
              "          dataTable['output_type'] = 'display_data';\n",
              "          await google.colab.output.renderOutput(dataTable, element);\n",
              "          const docLink = document.createElement('div');\n",
              "          docLink.innerHTML = docLinkHtml;\n",
              "          element.appendChild(docLink);\n",
              "        }\n",
              "      </script>\n",
              "    </div>\n",
              "  </div>\n",
              "  "
            ]
          },
          "metadata": {},
          "execution_count": 337
        }
      ]
    },
    {
      "cell_type": "code",
      "source": [
        "df_test = pd.DataFrame(\n",
        "    {'X': X_test_norm, 'y':y_test.astype(int)}\n",
        ")\n",
        "# df_test = df_test.sample(frac=1.0)"
      ],
      "metadata": {
        "id": "XaD-klMBL9TT"
      },
      "execution_count": null,
      "outputs": []
    },
    {
      "cell_type": "markdown",
      "source": [
        "##Wektoryzacja"
      ],
      "metadata": {
        "id": "zLJCdicACqFM"
      }
    },
    {
      "cell_type": "code",
      "source": [
        "from sklearn.feature_extraction.text import TfidfVectorizer\n",
        "from sklearn.linear_model import LogisticRegression"
      ],
      "metadata": {
        "id": "PuJDvttaEygY"
      },
      "execution_count": null,
      "outputs": []
    },
    {
      "cell_type": "code",
      "source": [
        "vectorizer = TfidfVectorizer(ngram_range=(1,1), max_features=10000)\n",
        "vectorizer.fit(df_train['X'])"
      ],
      "metadata": {
        "colab": {
          "base_uri": "https://localhost:8080/"
        },
        "id": "xQEPyyL7ICfi",
        "outputId": "19aabcfb-3713-4452-e2ca-004083b49fe1"
      },
      "execution_count": null,
      "outputs": [
        {
          "output_type": "execute_result",
          "data": {
            "text/plain": [
              "TfidfVectorizer(max_features=10000)"
            ]
          },
          "metadata": {},
          "execution_count": 374
        }
      ]
    },
    {
      "cell_type": "code",
      "source": [
        "X_train_vec = vectorizer.transform(df_train['X'])\n",
        "X_train_vec"
      ],
      "metadata": {
        "colab": {
          "base_uri": "https://localhost:8080/"
        },
        "id": "GhRe-uvEMWL-",
        "outputId": "17c87882-f349-4a27-e50a-bdc8b7d8e7bf"
      },
      "execution_count": null,
      "outputs": [
        {
          "output_type": "execute_result",
          "data": {
            "text/plain": [
              "<8000x10000 sparse matrix of type '<class 'numpy.float64'>'\n",
              "\twith 67170 stored elements in Compressed Sparse Row format>"
            ]
          },
          "metadata": {},
          "execution_count": 375
        }
      ]
    },
    {
      "cell_type": "markdown",
      "source": [
        "##Regresja logistyczna"
      ],
      "metadata": {
        "id": "CeUqtio8Csrq"
      }
    },
    {
      "cell_type": "code",
      "source": [
        "clf = LogisticRegression()\n",
        "clf.fit(X_train_vec, df_train['y'])"
      ],
      "metadata": {
        "colab": {
          "base_uri": "https://localhost:8080/"
        },
        "id": "sZL4d4BiN6fy",
        "outputId": "8a014235-fa6e-44a0-b6a2-225e7709a5df"
      },
      "execution_count": null,
      "outputs": [
        {
          "output_type": "execute_result",
          "data": {
            "text/plain": [
              "LogisticRegression()"
            ]
          },
          "metadata": {},
          "execution_count": 376
        }
      ]
    },
    {
      "cell_type": "code",
      "source": [
        "y_train_pred = clf.predict(X_train_vec)"
      ],
      "metadata": {
        "id": "1HY0Z2WdN0PD"
      },
      "execution_count": null,
      "outputs": []
    },
    {
      "cell_type": "code",
      "source": [
        "y_train_pred"
      ],
      "metadata": {
        "colab": {
          "base_uri": "https://localhost:8080/"
        },
        "id": "YKanzuqbN2hN",
        "outputId": "b7367d5b-0f22-44f4-d82b-1e66074d4f44"
      },
      "execution_count": null,
      "outputs": [
        {
          "output_type": "execute_result",
          "data": {
            "text/plain": [
              "array([1, 0, 0, ..., 0, 0, 1])"
            ]
          },
          "metadata": {},
          "execution_count": 378
        }
      ]
    },
    {
      "cell_type": "code",
      "source": [
        "from sklearn.metrics import accuracy_score, precision_score, recall_score"
      ],
      "metadata": {
        "id": "uMBXK2nzN-Hh"
      },
      "execution_count": null,
      "outputs": []
    },
    {
      "cell_type": "markdown",
      "source": [
        "## Wyniki regresji logistycznej"
      ],
      "metadata": {
        "id": "Nua0ISjcCwxD"
      }
    },
    {
      "cell_type": "code",
      "source": [
        "print('Train acc: ', accuracy_score(y_true=df_train['y'], y_pred=y_train_pred))\n",
        "print('Train precision: ', precision_score(y_true=df_train['y'], y_pred=y_train_pred))\n",
        "print('Train recall: ', recall_score(y_true=df_train['y'], y_pred=y_train_pred))\n"
      ],
      "metadata": {
        "colab": {
          "base_uri": "https://localhost:8080/"
        },
        "id": "kLOnrjWOOAKZ",
        "outputId": "33b120f5-176e-43c6-b25b-95cc52e511a6"
      },
      "execution_count": null,
      "outputs": [
        {
          "output_type": "stream",
          "name": "stdout",
          "text": [
            "Train acc:  0.878\n",
            "Train precision:  0.894572025052192\n",
            "Train recall:  0.857\n"
          ]
        }
      ]
    },
    {
      "cell_type": "code",
      "source": [
        "X_test_vec = vectorizer.transform(X_test_norm)\n",
        "y_test_pred = clf.predict(X_test_vec)\n",
        "\n",
        "print('Test acc: ', accuracy_score(y_true=y_test, y_pred=y_test_pred))\n",
        "print('Test precision: ', precision_score(y_true=y_test, y_pred=y_test_pred))\n",
        "print('Test recall: ', recall_score(y_true=y_test, y_pred=y_test_pred))"
      ],
      "metadata": {
        "colab": {
          "base_uri": "https://localhost:8080/"
        },
        "id": "0dkDe118OgFT",
        "outputId": "4c8bb823-d7cb-4697-c9e1-4ead18b5f94d"
      },
      "execution_count": null,
      "outputs": [
        {
          "output_type": "stream",
          "name": "stdout",
          "text": [
            "Test acc:  0.7545\n",
            "Test precision:  0.7763300760043431\n",
            "Test recall:  0.715\n"
          ]
        }
      ]
    },
    {
      "cell_type": "markdown",
      "source": [
        "##Tablica pomyłek"
      ],
      "metadata": {
        "id": "z8KDjsMUC6wG"
      }
    },
    {
      "cell_type": "code",
      "source": [
        "!pip install scikit-plot"
      ],
      "metadata": {
        "id": "7emyPtbROH0R",
        "colab": {
          "base_uri": "https://localhost:8080/"
        },
        "outputId": "99e774a9-f96b-4455-c79c-c07a00194a55"
      },
      "execution_count": null,
      "outputs": [
        {
          "output_type": "stream",
          "name": "stdout",
          "text": [
            "Looking in indexes: https://pypi.org/simple, https://us-python.pkg.dev/colab-wheels/public/simple/\n",
            "Requirement already satisfied: scikit-plot in /usr/local/lib/python3.7/dist-packages (0.3.7)\n",
            "Requirement already satisfied: scikit-learn>=0.18 in /usr/local/lib/python3.7/dist-packages (from scikit-plot) (1.0.2)\n",
            "Requirement already satisfied: joblib>=0.10 in /usr/local/lib/python3.7/dist-packages (from scikit-plot) (1.1.0)\n",
            "Requirement already satisfied: scipy>=0.9 in /usr/local/lib/python3.7/dist-packages (from scikit-plot) (1.7.3)\n",
            "Requirement already satisfied: matplotlib>=1.4.0 in /usr/local/lib/python3.7/dist-packages (from scikit-plot) (3.2.2)\n",
            "Requirement already satisfied: kiwisolver>=1.0.1 in /usr/local/lib/python3.7/dist-packages (from matplotlib>=1.4.0->scikit-plot) (1.4.4)\n",
            "Requirement already satisfied: pyparsing!=2.0.4,!=2.1.2,!=2.1.6,>=2.0.1 in /usr/local/lib/python3.7/dist-packages (from matplotlib>=1.4.0->scikit-plot) (3.0.9)\n",
            "Requirement already satisfied: python-dateutil>=2.1 in /usr/local/lib/python3.7/dist-packages (from matplotlib>=1.4.0->scikit-plot) (2.8.2)\n",
            "Requirement already satisfied: cycler>=0.10 in /usr/local/lib/python3.7/dist-packages (from matplotlib>=1.4.0->scikit-plot) (0.11.0)\n",
            "Requirement already satisfied: numpy>=1.11 in /usr/local/lib/python3.7/dist-packages (from matplotlib>=1.4.0->scikit-plot) (1.21.6)\n",
            "Requirement already satisfied: typing-extensions in /usr/local/lib/python3.7/dist-packages (from kiwisolver>=1.0.1->matplotlib>=1.4.0->scikit-plot) (4.1.1)\n",
            "Requirement already satisfied: six>=1.5 in /usr/local/lib/python3.7/dist-packages (from python-dateutil>=2.1->matplotlib>=1.4.0->scikit-plot) (1.15.0)\n",
            "Requirement already satisfied: threadpoolctl>=2.0.0 in /usr/local/lib/python3.7/dist-packages (from scikit-learn>=0.18->scikit-plot) (3.1.0)\n"
          ]
        }
      ]
    },
    {
      "cell_type": "code",
      "source": [
        "from scikitplot.metrics import plot_confusion_matrix, plot_roc, plot_precision_recall\n",
        "from scikitplot.estimators import plot_feature_importances"
      ],
      "metadata": {
        "id": "IidIaKecONsC"
      },
      "execution_count": null,
      "outputs": []
    },
    {
      "cell_type": "code",
      "source": [
        "plot_confusion_matrix(y_true=df_train['y'], y_pred=y_train_pred )"
      ],
      "metadata": {
        "colab": {
          "base_uri": "https://localhost:8080/",
          "height": 312
        },
        "id": "_XMgayl-OQdM",
        "outputId": "800041ec-7a2c-4187-934e-6ee7a3892668"
      },
      "execution_count": null,
      "outputs": [
        {
          "output_type": "execute_result",
          "data": {
            "text/plain": [
              "<matplotlib.axes._subplots.AxesSubplot at 0x7f7ee382d5d0>"
            ]
          },
          "metadata": {},
          "execution_count": 381
        },
        {
          "output_type": "display_data",
          "data": {
            "text/plain": [
              "<Figure size 432x288 with 2 Axes>"
            ],
            "image/png": "[encoded data removed]"
          },
          "metadata": {
            "needs_background": "light"
          }
        }
      ]
    },
    {
      "cell_type": "code",
      "source": [
        "plot_confusion_matrix(y_true=y_test, y_pred=y_test_pred)"
      ],
      "metadata": {
        "colab": {
          "base_uri": "https://localhost:8080/",
          "height": 312
        },
        "id": "GkKxx6UKOSQh",
        "outputId": "576353f9-d92f-4e59-91ab-1620a9bb3914"
      },
      "execution_count": null,
      "outputs": [
        {
          "output_type": "execute_result",
          "data": {
            "text/plain": [
              "<matplotlib.axes._subplots.AxesSubplot at 0x7f7f2b15bf50>"
            ]
          },
          "metadata": {},
          "execution_count": 382
        },
        {
          "output_type": "display_data",
          "data": {
            "text/plain": [
              "<Figure size 432x288 with 2 Axes>"
            ],
            "image/png": "[encoded data removed]"
          },
          "metadata": {
            "needs_background": "light"
          }
        }
      ]
    },
    {
      "cell_type": "markdown",
      "source": [
        "##Krzywa ROC"
      ],
      "metadata": {
        "id": "gMyYDtdvDYKz"
      }
    },
    {
      "cell_type": "code",
      "source": [
        "y_train_proba = clf.predict_proba(X_train_vec)\n",
        "\n",
        "plot_roc(y_true=df_train['y'], y_probas=y_train_proba)"
      ],
      "metadata": {
        "colab": {
          "base_uri": "https://localhost:8080/",
          "height": 312
        },
        "id": "-azCXPBhDeOK",
        "outputId": "0bb81b8c-8eea-4afd-ebf3-431037fd9c53"
      },
      "execution_count": null,
      "outputs": [
        {
          "output_type": "execute_result",
          "data": {
            "text/plain": [
              "<matplotlib.axes._subplots.AxesSubplot at 0x7f7ee3a11d90>"
            ]
          },
          "metadata": {},
          "execution_count": 383
        },
        {
          "output_type": "display_data",
          "data": {
            "text/plain": [
              "<Figure size 432x288 with 1 Axes>"
            ],
            "image/png": "[encoded data removed]"
          },
          "metadata": {
            "needs_background": "light"
          }
        }
      ]
    },
    {
      "cell_type": "code",
      "source": [
        "y_test_proba = clf.predict_proba(X_test_vec)\n",
        "\n",
        "plot_roc(y_true=y_test, y_probas=y_test_proba)"
      ],
      "metadata": {
        "colab": {
          "base_uri": "https://localhost:8080/",
          "height": 312
        },
        "id": "jWDi9piPDlRp",
        "outputId": "3bb80adb-58e4-4417-8ac3-26d371688cce"
      },
      "execution_count": null,
      "outputs": [
        {
          "output_type": "execute_result",
          "data": {
            "text/plain": [
              "<matplotlib.axes._subplots.AxesSubplot at 0x7f7edf569550>"
            ]
          },
          "metadata": {},
          "execution_count": 384
        },
        {
          "output_type": "display_data",
          "data": {
            "text/plain": [
              "<Figure size 432x288 with 1 Axes>"
            ],
            "image/png": "[encoded data removed]"
          },
          "metadata": {
            "needs_background": "light"
          }
        }
      ]
    },
    {
      "cell_type": "code",
      "source": [
        "plot_precision_recall(y_true=df_train['y'], y_probas=y_train_proba)"
      ],
      "metadata": {
        "colab": {
          "base_uri": "https://localhost:8080/",
          "height": 312
        },
        "id": "XueOlOTqDlGY",
        "outputId": "829ed633-71dd-4b28-bd10-0425cff80b8b"
      },
      "execution_count": null,
      "outputs": [
        {
          "output_type": "execute_result",
          "data": {
            "text/plain": [
              "<matplotlib.axes._subplots.AxesSubplot at 0x7f7ee393cd10>"
            ]
          },
          "metadata": {},
          "execution_count": 385
        },
        {
          "output_type": "display_data",
          "data": {
            "text/plain": [
              "<Figure size 432x288 with 1 Axes>"
            ],
            "image/png": "[encoded data removed]"
          },
          "metadata": {
            "needs_background": "light"
          }
        }
      ]
    },
    {
      "cell_type": "code",
      "source": [
        "plot_precision_recall(y_true=y_test, y_probas=y_test_proba)"
      ],
      "metadata": {
        "colab": {
          "base_uri": "https://localhost:8080/",
          "height": 312
        },
        "id": "o6JUDLEFD3ro",
        "outputId": "eb9001b5-86aa-4f03-8d5c-20db71be60e1"
      },
      "execution_count": null,
      "outputs": [
        {
          "output_type": "execute_result",
          "data": {
            "text/plain": [
              "<matplotlib.axes._subplots.AxesSubplot at 0x7f7ee3814190>"
            ]
          },
          "metadata": {},
          "execution_count": 386
        },
        {
          "output_type": "display_data",
          "data": {
            "text/plain": [
              "<Figure size 432x288 with 1 Axes>"
            ],
            "image/png": "[encoded data removed]"
          },
          "metadata": {
            "needs_background": "light"
          }
        }
      ]
    },
    {
      "cell_type": "code",
      "source": [
        "test_tweet = ['very good movie :)']\n",
        "test_twitter_vec = vectorizer.transform(test_tweet)\n",
        "test_pred = clf.predict(test_twitter_vec)\n",
        "if test_pred == 0:\n",
        "  print(\"Tweet o sentymencie negatywnym\")\n",
        "else:\n",
        "  print(\"Tweet o sentymencie pozytywnym\")"
      ],
      "metadata": {
        "colab": {
          "base_uri": "https://localhost:8080/"
        },
        "id": "3Hnf9nkWcwdc",
        "outputId": "793a1a9f-89e5-4d28-df9d-fa2b595759f1"
      },
      "execution_count": null,
      "outputs": [
        {
          "output_type": "stream",
          "name": "stdout",
          "text": [
            "Tweet o sentymencie pozytywnym\n"
          ]
        }
      ]
    },
    {
      "cell_type": "markdown",
      "source": [
        "## Regresja logistyczna #2"
      ],
      "metadata": {
        "id": "eNirGMjTEAWy"
      }
    },
    {
      "cell_type": "code",
      "source": [
        "vectorizer_4 = TfidfVectorizer(ngram_range=(1,2), max_features=25000, encoding=\"utf-8\", stop_words=stopwords.words('english'))\n",
        "vectorizer_4.fit(X_train_norm)\n",
        "\n",
        "X_train_vec_4 = vectorizer_4.transform(df_train['X'])\n",
        "X_train_vec_4"
      ],
      "metadata": {
        "colab": {
          "base_uri": "https://localhost:8080/"
        },
        "id": "5MlWf6eIEfrX",
        "outputId": "bd865a9c-6034-4224-e799-03aedc61c1a3"
      },
      "execution_count": null,
      "outputs": [
        {
          "output_type": "execute_result",
          "data": {
            "text/plain": [
              "<8000x25000 sparse matrix of type '<class 'numpy.float64'>'\n",
              "\twith 61301 stored elements in Compressed Sparse Row format>"
            ]
          },
          "metadata": {},
          "execution_count": 366
        }
      ]
    },
    {
      "cell_type": "code",
      "source": [
        "clf_2 = LogisticRegression()\n",
        "clf_2.fit(X_train_vec_4, df_train['y'])"
      ],
      "metadata": {
        "colab": {
          "base_uri": "https://localhost:8080/"
        },
        "id": "q0Ro2yBeD_v2",
        "outputId": "0cad203b-e937-41e3-94ab-877843d58c64"
      },
      "execution_count": null,
      "outputs": [
        {
          "output_type": "execute_result",
          "data": {
            "text/plain": [
              "LogisticRegression()"
            ]
          },
          "metadata": {},
          "execution_count": 367
        }
      ]
    },
    {
      "cell_type": "code",
      "source": [
        "y_train_pred_4 = clf_2.predict(X_train_vec_4)\n",
        "\n",
        "print('Train acc: ', accuracy_score(y_true=df_train['y'], y_pred=y_train_pred_4))\n",
        "print('Train precision: ', precision_score(y_true=df_train['y'], y_pred=y_train_pred_4))\n",
        "print('Train recall: ', recall_score(y_true=df_train['y'], y_pred=y_train_pred_4))"
      ],
      "metadata": {
        "colab": {
          "base_uri": "https://localhost:8080/"
        },
        "id": "mWxSJUE_IFDR",
        "outputId": "4999578e-1034-48c9-d519-586dc392e8b6"
      },
      "execution_count": null,
      "outputs": [
        {
          "output_type": "stream",
          "name": "stdout",
          "text": [
            "Train acc:  0.913375\n",
            "Train precision:  0.9373181697963502\n",
            "Train recall:  0.886\n"
          ]
        }
      ]
    },
    {
      "cell_type": "code",
      "source": [
        "X_test_vec_4 = vectorizer_4.transform(X_test_norm)\n",
        "y_test_pred_4 = clf_2.predict(X_test_vec_4)\n",
        "\n",
        "print('Test acc: ', accuracy_score(y_true=y_test, y_pred=y_test_pred_4))\n",
        "print('Test precision: ', precision_score(y_true=y_test, y_pred=y_test_pred_4))\n",
        "print('Test recall: ', recall_score(y_true=y_test, y_pred=y_test_pred_4))"
      ],
      "metadata": {
        "colab": {
          "base_uri": "https://localhost:8080/"
        },
        "id": "hGXVUzL7IQRl",
        "outputId": "5fd84e1c-272e-4034-b5ba-6d4143f1bf51"
      },
      "execution_count": null,
      "outputs": [
        {
          "output_type": "stream",
          "name": "stdout",
          "text": [
            "Test acc:  0.743\n",
            "Test precision:  0.7832167832167832\n",
            "Test recall:  0.672\n"
          ]
        }
      ]
    },
    {
      "cell_type": "markdown",
      "source": [
        "## SimpleRNN\n"
      ],
      "metadata": {
        "id": "ZooCZ3U6hgxk"
      }
    },
    {
      "cell_type": "code",
      "source": [
        "vectorizer_2 = TfidfVectorizer(ngram_range=(1,1), max_features=1000)\n",
        "vectorizer_2.fit(df_train['X'])\n",
        "\n",
        "X_train_vec_arr = vectorizer_2.transform(df_train['X']).toarray()\n",
        "X_test_vec_arr = vectorizer_2.transform(X_test_norm).toarray()\n",
        "\n",
        "X_train_vec_arr"
      ],
      "metadata": {
        "colab": {
          "base_uri": "https://localhost:8080/"
        },
        "id": "AcYgBrFRXSG8",
        "outputId": "18ba427d-2abb-42af-ccad-3220b45b1f99"
      },
      "execution_count": null,
      "outputs": [
        {
          "output_type": "execute_result",
          "data": {
            "text/plain": [
              "array([[0., 0., 0., ..., 0., 0., 0.],\n",
              "       [0., 0., 0., ..., 0., 0., 0.],\n",
              "       [0., 0., 0., ..., 0., 0., 0.],\n",
              "       ...,\n",
              "       [0., 0., 0., ..., 0., 0., 0.],\n",
              "       [0., 0., 0., ..., 0., 0., 0.],\n",
              "       [0., 0., 0., ..., 0., 0., 0.]])"
            ]
          },
          "metadata": {},
          "execution_count": 68
        }
      ]
    },
    {
      "cell_type": "code",
      "source": [
        "print(X_train_vec_arr.shape)\n",
        "print(X_test_vec_arr.shape)"
      ],
      "metadata": {
        "colab": {
          "base_uri": "https://localhost:8080/"
        },
        "id": "iYDKDvCpXoR8",
        "outputId": "fec2e3c6-c88c-45ad-c0a3-d2cf807b2179"
      },
      "execution_count": null,
      "outputs": [
        {
          "output_type": "stream",
          "name": "stdout",
          "text": [
            "(8000, 1000)\n",
            "(2000, 1000)\n"
          ]
        }
      ]
    },
    {
      "cell_type": "code",
      "source": [
        "unique, counts = np.unique(y_train, return_counts=True)\n",
        "print(unique, counts)"
      ],
      "metadata": {
        "colab": {
          "base_uri": "https://localhost:8080/"
        },
        "id": "n0lGBjzRUCFw",
        "outputId": "febb58be-0b5f-4fda-93fa-36a08d1226c6"
      },
      "execution_count": null,
      "outputs": [
        {
          "output_type": "stream",
          "name": "stdout",
          "text": [
            "[0. 1.] [4000 4000]\n"
          ]
        }
      ]
    },
    {
      "cell_type": "code",
      "source": [
        "unique, counts = np.unique(y_test, return_counts=True)\n",
        "print(np.asarray((unique, counts)).T)"
      ],
      "metadata": {
        "colab": {
          "base_uri": "https://localhost:8080/"
        },
        "id": "8RG-PyTKbzYM",
        "outputId": "bca3f185-343e-466a-b63f-b1b5e4779deb"
      },
      "execution_count": null,
      "outputs": [
        {
          "output_type": "stream",
          "name": "stdout",
          "text": [
            "[[   0. 1000.]\n",
            " [   1. 1000.]]\n"
          ]
        }
      ]
    },
    {
      "cell_type": "code",
      "source": [
        "from keras.layers import Flatten"
      ],
      "metadata": {
        "id": "9qFyUNt550C8"
      },
      "execution_count": null,
      "outputs": []
    },
    {
      "cell_type": "code",
      "source": [
        "from keras.layers import Dense\n",
        "from keras.layers import SimpleRNN, Dropout, Embedding\n",
        "from keras.models import Sequential\n",
        "\n",
        "\n",
        "model = Sequential()\n",
        "model.add(Embedding(1000, 16))\n",
        "model.add(SimpleRNN(32, return_sequences=True))\n",
        "model.add(SimpleRNN(64, return_sequences=True))\n",
        "model.add(SimpleRNN(32, return_sequences=True))\n",
        "model.add(SimpleRNN(16))\n",
        "model.add(Dense(1, activation='sigmoid'))\n",
        "model.summary()"
      ],
      "metadata": {
        "colab": {
          "base_uri": "https://localhost:8080/"
        },
        "id": "ZwcRzsMwcYfu",
        "outputId": "b39e5ef6-c399-48c2-b137-956a1cb4f412"
      },
      "execution_count": null,
      "outputs": [
        {
          "output_type": "stream",
          "name": "stdout",
          "text": [
            "Model: \"sequential_13\"\n",
            "_________________________________________________________________\n",
            " Layer (type)                Output Shape              Param #   \n",
            "=================================================================\n",
            " embedding_13 (Embedding)    (None, None, 16)          16000     \n",
            "                                                                 \n",
            " simple_rnn_21 (SimpleRNN)   (None, None, 32)          1568      \n",
            "                                                                 \n",
            " simple_rnn_22 (SimpleRNN)   (None, None, 64)          6208      \n",
            "                                                                 \n",
            " simple_rnn_23 (SimpleRNN)   (None, None, 32)          3104      \n",
            "                                                                 \n",
            " simple_rnn_24 (SimpleRNN)   (None, 16)                784       \n",
            "                                                                 \n",
            " dense_8 (Dense)             (None, 1)                 17        \n",
            "                                                                 \n",
            "=================================================================\n",
            "Total params: 27,681\n",
            "Trainable params: 27,681\n",
            "Non-trainable params: 0\n",
            "_________________________________________________________________\n"
          ]
        }
      ]
    },
    {
      "cell_type": "code",
      "source": [
        "from traitlets.traitlets import validate\n",
        "\n",
        "model.compile(optimizer='rmsprop', loss='binary_crossentropy', metrics=['acc'])\n",
        "history = model.fit(X_train_vec_arr, y_train, epochs=5, batch_size=128, validation_split=0.20)"
      ],
      "metadata": {
        "colab": {
          "base_uri": "https://localhost:8080/"
        },
        "id": "_3w6wu1UjjAY",
        "outputId": "9a56cd7b-1b8d-4ba9-98d6-cf10d6452439"
      },
      "execution_count": null,
      "outputs": [
        {
          "output_type": "stream",
          "name": "stdout",
          "text": [
            "Epoch 1/5\n",
            "50/50 [==============================] - 147s 3s/step - loss: 0.6719 - acc: 0.6212 - val_loss: 1.0941 - val_acc: 0.0000e+00\n",
            "Epoch 2/5\n",
            "50/50 [==============================] - 144s 3s/step - loss: 0.6647 - acc: 0.6250 - val_loss: 0.9229 - val_acc: 0.0000e+00\n",
            "Epoch 3/5\n",
            "50/50 [==============================] - 145s 3s/step - loss: 0.6633 - acc: 0.6250 - val_loss: 1.0150 - val_acc: 0.0000e+00\n",
            "Epoch 4/5\n",
            "50/50 [==============================] - 144s 3s/step - loss: 0.6622 - acc: 0.6250 - val_loss: 0.8782 - val_acc: 0.0000e+00\n",
            "Epoch 5/5\n",
            "50/50 [==============================] - 144s 3s/step - loss: 0.6628 - acc: 0.6250 - val_loss: 0.9809 - val_acc: 0.0000e+00\n"
          ]
        }
      ]
    },
    {
      "cell_type": "code",
      "source": [
        "vectorizer_3 = TfidfVectorizer(ngram_range=(1,2), max_features=100, stop_words=stopwords.words('english'))\n",
        "vectorizer_3.fit(df_train['X'])\n",
        "\n",
        "X_train_vec_arr = vectorizer_3.transform(df_train['X']).toarray()\n",
        "X_test_vec_arr = vectorizer_3.transform(X_test_norm).toarray()\n",
        "\n",
        "print(X_train_vec_arr.shape)\n",
        "print(X_test_vec_arr.shape)"
      ],
      "metadata": {
        "colab": {
          "base_uri": "https://localhost:8080/"
        },
        "id": "ncdoTJ-kkrs8",
        "outputId": "433a944a-209d-4d27-9b55-c0175e62c56a"
      },
      "execution_count": null,
      "outputs": [
        {
          "output_type": "stream",
          "name": "stdout",
          "text": [
            "(8000, 100)\n",
            "(2000, 100)\n"
          ]
        }
      ]
    },
    {
      "cell_type": "code",
      "source": [
        "from keras.layers import Dropout\n",
        "model = Sequential()\n",
        "model.add(Embedding(100, 32))\n",
        "model.add(SimpleRNN(32, return_sequences=True))\n",
        "model.add(Dropout(0.2))\n",
        "model.add(SimpleRNN(32, return_sequences=True))\n",
        "model.add(Dropout(0.4))\n",
        "model.add(SimpleRNN(32, return_sequences=False))\n",
        "model.add(Dense(1, activation='sigmoid'))\n",
        "model.summary()\n",
        "\n",
        "model.compile(optimizer='Adamax', loss='binary_crossentropy', metrics=['acc'])\n",
        "history_2 = model.fit(X_train_vec_arr, y_train, epochs=15, batch_size=16, validation_split=0.20)"
      ],
      "metadata": {
        "id": "0bKi9Sftr_SW"
      },
      "execution_count": null,
      "outputs": []
    },
    {
      "cell_type": "markdown",
      "source": [
        "## Osadzanie słów"
      ],
      "metadata": {
        "id": "t7GkCkQ69-BX"
      }
    },
    {
      "cell_type": "code",
      "source": [
        "from keras.preprocessing.text import Tokenizer\n",
        "from keras.preprocessing.sequence import pad_sequences\n",
        "\n",
        "max_words = 50\n",
        "max_features = 1000\n",
        "\n",
        "tokenizer = Tokenizer(num_words=max_words)\n",
        "tokenizer.fit_on_texts(df_train['X'])\n",
        "sequences = tokenizer.texts_to_sequences(df_train['X'])\n",
        "\n",
        "print(f'Liczba unikatowych tokentów: {len(tokenizer.word_index)}')"
      ],
      "metadata": {
        "colab": {
          "base_uri": "https://localhost:8080/"
        },
        "id": "FyAFcPodsPnX",
        "outputId": "77a317c1-5d63-4350-dd6b-238f1a0beb77"
      },
      "execution_count": null,
      "outputs": [
        {
          "output_type": "stream",
          "name": "stdout",
          "text": [
            "Liczba unikatowych tokentów: 11475\n"
          ]
        }
      ]
    },
    {
      "cell_type": "code",
      "source": [
        "len(sequences)"
      ],
      "metadata": {
        "colab": {
          "base_uri": "https://localhost:8080/"
        },
        "id": "p0OJjCY64HUO",
        "outputId": "c156d421-fd9a-4155-c404-9052a7af2602"
      },
      "execution_count": null,
      "outputs": [
        {
          "output_type": "execute_result",
          "data": {
            "text/plain": [
              "8000"
            ]
          },
          "metadata": {},
          "execution_count": 115
        }
      ]
    },
    {
      "cell_type": "code",
      "source": [
        "train_data = pad_sequences(sequences, maxlen=max_words)\n",
        "train_labels = np.asarray(y_train)\n",
        "\n",
        "print(f'Kształt X_train: {train_data.shape}')\n",
        "print(f'Kształt y_train: {train_labels.shape}')"
      ],
      "metadata": {
        "colab": {
          "base_uri": "https://localhost:8080/"
        },
        "id": "AMHt1bPE4Kr2",
        "outputId": "46760ef5-545f-4102-d50d-08f7083a3fec"
      },
      "execution_count": null,
      "outputs": [
        {
          "output_type": "stream",
          "name": "stdout",
          "text": [
            "Kształt X_train: (8000, 50)\n",
            "Kształt y_train: (8000,)\n"
          ]
        }
      ]
    },
    {
      "cell_type": "markdown",
      "source": [
        "Osadzenia słów GloVe:"
      ],
      "metadata": {
        "id": "Al0DeY2j_IJ8"
      }
    },
    {
      "cell_type": "code",
      "source": [
        "!wget http://nlp.stanford.edu/data/glove.6B.zip\n",
        "!unzip glove.6B.zip"
      ],
      "metadata": {
        "colab": {
          "base_uri": "https://localhost:8080/"
        },
        "id": "J7Xeu3Oa4dR2",
        "outputId": "e40148df-90cb-4467-f98d-9a6e987d62c7"
      },
      "execution_count": null,
      "outputs": [
        {
          "output_type": "stream",
          "name": "stdout",
          "text": [
            "--2022-08-28 09:57:14--  http://nlp.stanford.edu/data/glove.6B.zip\n",
            "Resolving nlp.stanford.edu (nlp.stanford.edu)... 171.64.67.140\n",
            "Connecting to nlp.stanford.edu (nlp.stanford.edu)|171.64.67.140|:80... connected.\n",
            "HTTP request sent, awaiting response... 302 Found\n",
            "Location: https://nlp.stanford.edu/data/glove.6B.zip [following]\n",
            "--2022-08-28 09:57:14--  https://nlp.stanford.edu/data/glove.6B.zip\n",
            "Connecting to nlp.stanford.edu (nlp.stanford.edu)|171.64.67.140|:443... connected.\n",
            "HTTP request sent, awaiting response... 301 Moved Permanently\n",
            "Location: https://downloads.cs.stanford.edu/nlp/data/glove.6B.zip [following]\n",
            "--2022-08-28 09:57:15--  https://downloads.cs.stanford.edu/nlp/data/glove.6B.zip\n",
            "Resolving downloads.cs.stanford.edu (downloads.cs.stanford.edu)... 171.64.64.22\n",
            "Connecting to downloads.cs.stanford.edu (downloads.cs.stanford.edu)|171.64.64.22|:443... connected.\n",
            "HTTP request sent, awaiting response... 200 OK\n",
            "Length: 862182613 (822M) [application/zip]\n",
            "Saving to: ‘glove.6B.zip’\n",
            "\n",
            "glove.6B.zip        100%[===================>] 822.24M  5.02MB/s    in 2m 39s  \n",
            "\n",
            "2022-08-28 09:59:54 (5.17 MB/s) - ‘glove.6B.zip’ saved [862182613/862182613]\n",
            "\n",
            "Archive:  glove.6B.zip\n",
            "  inflating: glove.6B.50d.txt        \n",
            "  inflating: glove.6B.100d.txt       \n",
            "  inflating: glove.6B.200d.txt       \n",
            "  inflating: glove.6B.300d.txt       \n"
          ]
        }
      ]
    },
    {
      "cell_type": "code",
      "source": [
        "embeddings_index = {}\n",
        "f = open('glove.6B.50d.txt')\n",
        "for line in f:\n",
        "    values = line.split()\n",
        "    word = values[0]\n",
        "    coefs = np.asarray(values[1:], dtype='float32')\n",
        "    embeddings_index[word] = coefs\n",
        "f.close()\n",
        "\n",
        "print('Znaleziono %s wektorów słów.' % len(embeddings_index))"
      ],
      "metadata": {
        "colab": {
          "base_uri": "https://localhost:8080/"
        },
        "id": "wqPb0Llz4ktZ",
        "outputId": "9d2578ee-51ed-476b-9841-c086616c7a39"
      },
      "execution_count": null,
      "outputs": [
        {
          "output_type": "stream",
          "name": "stdout",
          "text": [
            "Znaleziono 400000 wektorów słów.\n"
          ]
        }
      ]
    },
    {
      "cell_type": "markdown",
      "source": [
        "Budowanie macierzy osadzeń:"
      ],
      "metadata": {
        "id": "gMPJmOzV-8wI"
      }
    },
    {
      "cell_type": "code",
      "source": [
        "embedding_dim = 50\n",
        "max_features\n",
        "\n",
        "embedding_matrix = np.zeros((max_features, embedding_dim))\n",
        "for word, i in tokenizer.word_index.items():\n",
        "    embedding_vector = embeddings_index.get(word)\n",
        "    if i < max_features:\n",
        "        if embedding_vector is not None:\n",
        "            # Słowa nieznalezione w osadzanym indeksie zostaną zastąpione zerami.\n",
        "            embedding_matrix[i] = embedding_vector"
      ],
      "metadata": {
        "id": "wGer2Tcb5TkE"
      },
      "execution_count": null,
      "outputs": []
    },
    {
      "cell_type": "markdown",
      "source": [
        "Definiowanie modelu:"
      ],
      "metadata": {
        "id": "dwzxSDWd_Bo2"
      }
    },
    {
      "cell_type": "code",
      "source": [
        "model = Sequential()\n",
        "model.add(Embedding(max_features, embedding_dim, input_length=max_words))\n",
        "model.add(Flatten())\n",
        "model.add(Dense(64, activation='relu'))\n",
        "model.add(Dense(64, activation='relu'))\n",
        "model.add(Dense(32, activation='relu'))\n",
        "model.add(Dense(32, activation='relu'))\n",
        "model.add(Dense(32, activation='relu'))\n",
        "model.add(Dense(32, activation='relu'))\n",
        "model.add(Dense(16, activation='relu'))\n",
        "model.add(Dense(1, activation='sigmoid'))\n",
        "\n",
        "model.layers[0].set_weights([embedding_matrix])\n",
        "model.layers[0].trainable=False\n",
        "model.summary()"
      ],
      "metadata": {
        "colab": {
          "base_uri": "https://localhost:8080/"
        },
        "id": "eJcyqOQy5twI",
        "outputId": "3d278092-4fd0-46ea-f5aa-a3783e040d0e"
      },
      "execution_count": null,
      "outputs": [
        {
          "output_type": "stream",
          "name": "stdout",
          "text": [
            "Model: \"sequential_45\"\n",
            "_________________________________________________________________\n",
            " Layer (type)                Output Shape              Param #   \n",
            "=================================================================\n",
            " embedding_45 (Embedding)    (None, 50, 50)            50000     \n",
            "                                                                 \n",
            " flatten_26 (Flatten)        (None, 2500)              0         \n",
            "                                                                 \n",
            " dense_133 (Dense)           (None, 64)                160064    \n",
            "                                                                 \n",
            " dense_134 (Dense)           (None, 64)                4160      \n",
            "                                                                 \n",
            " dense_135 (Dense)           (None, 32)                2080      \n",
            "                                                                 \n",
            " dense_136 (Dense)           (None, 32)                1056      \n",
            "                                                                 \n",
            " dense_137 (Dense)           (None, 32)                1056      \n",
            "                                                                 \n",
            " dense_138 (Dense)           (None, 32)                1056      \n",
            "                                                                 \n",
            " dense_139 (Dense)           (None, 16)                528       \n",
            "                                                                 \n",
            " dense_140 (Dense)           (None, 1)                 17        \n",
            "                                                                 \n",
            "=================================================================\n",
            "Total params: 220,017\n",
            "Trainable params: 170,017\n",
            "Non-trainable params: 50,000\n",
            "_________________________________________________________________\n"
          ]
        }
      ]
    },
    {
      "cell_type": "code",
      "source": [
        "model.compile(optimizer='adamax', loss='binary_crossentropy', metrics=['acc'])\n",
        "history = model.fit(train_data, train_labels, epochs=60, batch_size=128, validation_split=0.2)"
      ],
      "metadata": {
        "colab": {
          "base_uri": "https://localhost:8080/"
        },
        "id": "KLWuyQEY57Ux",
        "outputId": "ab7fe9b9-01ad-47c3-d58c-d112a82ae16e"
      },
      "execution_count": null,
      "outputs": [
        {
          "output_type": "stream",
          "name": "stdout",
          "text": [
            "Epoch 1/60\n",
            "50/50 [==============================] - 1s 8ms/step - loss: 0.6756 - acc: 0.6166 - val_loss: 0.9363 - val_acc: 0.0000e+00\n",
            "Epoch 2/60\n",
            "50/50 [==============================] - 0s 4ms/step - loss: 0.6627 - acc: 0.6250 - val_loss: 0.9500 - val_acc: 0.0000e+00\n",
            "Epoch 3/60\n",
            "50/50 [==============================] - 0s 4ms/step - loss: 0.6606 - acc: 0.6250 - val_loss: 0.9544 - val_acc: 0.0000e+00\n",
            "Epoch 4/60\n",
            "50/50 [==============================] - 0s 4ms/step - loss: 0.6578 - acc: 0.6250 - val_loss: 0.9625 - val_acc: 0.0000e+00\n",
            "Epoch 5/60\n",
            "50/50 [==============================] - 0s 4ms/step - loss: 0.6552 - acc: 0.6266 - val_loss: 1.0096 - val_acc: 0.0000e+00\n",
            "Epoch 6/60\n",
            "50/50 [==============================] - 0s 4ms/step - loss: 0.6504 - acc: 0.6283 - val_loss: 0.9573 - val_acc: 0.0250\n",
            "Epoch 7/60\n",
            "50/50 [==============================] - 0s 4ms/step - loss: 0.6447 - acc: 0.6350 - val_loss: 0.9635 - val_acc: 0.0800\n",
            "Epoch 8/60\n",
            "50/50 [==============================] - 0s 4ms/step - loss: 0.6384 - acc: 0.6445 - val_loss: 0.9695 - val_acc: 0.1194\n",
            "Epoch 9/60\n",
            "50/50 [==============================] - 0s 4ms/step - loss: 0.6281 - acc: 0.6500 - val_loss: 1.0467 - val_acc: 0.0881\n",
            "Epoch 10/60\n",
            "50/50 [==============================] - 0s 5ms/step - loss: 0.6161 - acc: 0.6661 - val_loss: 1.1106 - val_acc: 0.0944\n",
            "Epoch 11/60\n",
            "50/50 [==============================] - 0s 4ms/step - loss: 0.6038 - acc: 0.6772 - val_loss: 1.0166 - val_acc: 0.1988\n",
            "Epoch 12/60\n",
            "50/50 [==============================] - 0s 4ms/step - loss: 0.5885 - acc: 0.6853 - val_loss: 1.0079 - val_acc: 0.2281\n",
            "Epoch 13/60\n",
            "50/50 [==============================] - 0s 4ms/step - loss: 0.5780 - acc: 0.6938 - val_loss: 1.0373 - val_acc: 0.2450\n",
            "Epoch 14/60\n",
            "50/50 [==============================] - 0s 4ms/step - loss: 0.5648 - acc: 0.7058 - val_loss: 1.1118 - val_acc: 0.2125\n",
            "Epoch 15/60\n",
            "50/50 [==============================] - 0s 4ms/step - loss: 0.5527 - acc: 0.7134 - val_loss: 1.0563 - val_acc: 0.2706\n",
            "Epoch 16/60\n",
            "50/50 [==============================] - 0s 4ms/step - loss: 0.5385 - acc: 0.7228 - val_loss: 1.2215 - val_acc: 0.2056\n",
            "Epoch 17/60\n",
            "50/50 [==============================] - 0s 4ms/step - loss: 0.5244 - acc: 0.7286 - val_loss: 1.1063 - val_acc: 0.3144\n",
            "Epoch 18/60\n",
            "50/50 [==============================] - 0s 4ms/step - loss: 0.5149 - acc: 0.7353 - val_loss: 1.4379 - val_acc: 0.1631\n",
            "Epoch 19/60\n",
            "50/50 [==============================] - 0s 5ms/step - loss: 0.5042 - acc: 0.7394 - val_loss: 1.1246 - val_acc: 0.3000\n",
            "Epoch 20/60\n",
            "50/50 [==============================] - 0s 5ms/step - loss: 0.4963 - acc: 0.7464 - val_loss: 1.2144 - val_acc: 0.3019\n",
            "Epoch 21/60\n",
            "50/50 [==============================] - 0s 4ms/step - loss: 0.4861 - acc: 0.7486 - val_loss: 1.4532 - val_acc: 0.2169\n",
            "Epoch 22/60\n",
            "50/50 [==============================] - 0s 4ms/step - loss: 0.4786 - acc: 0.7567 - val_loss: 1.2457 - val_acc: 0.2975\n",
            "Epoch 23/60\n",
            "50/50 [==============================] - 0s 5ms/step - loss: 0.4698 - acc: 0.7633 - val_loss: 1.2708 - val_acc: 0.3094\n",
            "Epoch 24/60\n",
            "50/50 [==============================] - 0s 4ms/step - loss: 0.4637 - acc: 0.7644 - val_loss: 1.2165 - val_acc: 0.3344\n",
            "Epoch 25/60\n",
            "50/50 [==============================] - 0s 4ms/step - loss: 0.4567 - acc: 0.7661 - val_loss: 1.3220 - val_acc: 0.3013\n",
            "Epoch 26/60\n",
            "50/50 [==============================] - 0s 4ms/step - loss: 0.4475 - acc: 0.7700 - val_loss: 1.3960 - val_acc: 0.2944\n",
            "Epoch 27/60\n",
            "50/50 [==============================] - 0s 4ms/step - loss: 0.4415 - acc: 0.7748 - val_loss: 1.5356 - val_acc: 0.2544\n",
            "Epoch 28/60\n",
            "50/50 [==============================] - 0s 4ms/step - loss: 0.4353 - acc: 0.7770 - val_loss: 1.5366 - val_acc: 0.2681\n",
            "Epoch 29/60\n",
            "50/50 [==============================] - 0s 4ms/step - loss: 0.4291 - acc: 0.7834 - val_loss: 1.4609 - val_acc: 0.3106\n",
            "Epoch 30/60\n",
            "50/50 [==============================] - 0s 5ms/step - loss: 0.4263 - acc: 0.7836 - val_loss: 1.5688 - val_acc: 0.2569\n",
            "Epoch 31/60\n",
            "50/50 [==============================] - 0s 4ms/step - loss: 0.4182 - acc: 0.7886 - val_loss: 1.4677 - val_acc: 0.3313\n",
            "Epoch 32/60\n",
            "50/50 [==============================] - 0s 8ms/step - loss: 0.4188 - acc: 0.7837 - val_loss: 2.1605 - val_acc: 0.1500\n",
            "Epoch 33/60\n",
            "50/50 [==============================] - 0s 10ms/step - loss: 0.4194 - acc: 0.7805 - val_loss: 1.8806 - val_acc: 0.2019\n",
            "Epoch 34/60\n",
            "50/50 [==============================] - 0s 6ms/step - loss: 0.4100 - acc: 0.7908 - val_loss: 1.6551 - val_acc: 0.3075\n",
            "Epoch 35/60\n",
            "50/50 [==============================] - 0s 5ms/step - loss: 0.3969 - acc: 0.7984 - val_loss: 1.7813 - val_acc: 0.2331\n",
            "Epoch 36/60\n",
            "50/50 [==============================] - 0s 5ms/step - loss: 0.3962 - acc: 0.7942 - val_loss: 1.8688 - val_acc: 0.2375\n",
            "Epoch 37/60\n",
            "50/50 [==============================] - 0s 4ms/step - loss: 0.3958 - acc: 0.7905 - val_loss: 2.0670 - val_acc: 0.1950\n",
            "Epoch 38/60\n",
            "50/50 [==============================] - 0s 5ms/step - loss: 0.3902 - acc: 0.7994 - val_loss: 1.5966 - val_acc: 0.3519\n",
            "Epoch 39/60\n",
            "50/50 [==============================] - 0s 4ms/step - loss: 0.3893 - acc: 0.7959 - val_loss: 1.6781 - val_acc: 0.2869\n",
            "Epoch 40/60\n",
            "50/50 [==============================] - 0s 5ms/step - loss: 0.3844 - acc: 0.8006 - val_loss: 1.8254 - val_acc: 0.2706\n",
            "Epoch 41/60\n",
            "50/50 [==============================] - 0s 4ms/step - loss: 0.3841 - acc: 0.8019 - val_loss: 1.9363 - val_acc: 0.2719\n",
            "Epoch 42/60\n",
            "50/50 [==============================] - 0s 5ms/step - loss: 0.3792 - acc: 0.8064 - val_loss: 2.0619 - val_acc: 0.2650\n",
            "Epoch 43/60\n",
            "50/50 [==============================] - 0s 5ms/step - loss: 0.3763 - acc: 0.8041 - val_loss: 1.7852 - val_acc: 0.3069\n",
            "Epoch 44/60\n",
            "50/50 [==============================] - 0s 5ms/step - loss: 0.3886 - acc: 0.7972 - val_loss: 1.6680 - val_acc: 0.3288\n",
            "Epoch 45/60\n",
            "50/50 [==============================] - 0s 4ms/step - loss: 0.3804 - acc: 0.8022 - val_loss: 1.8086 - val_acc: 0.2937\n",
            "Epoch 46/60\n",
            "50/50 [==============================] - 0s 5ms/step - loss: 0.3786 - acc: 0.7983 - val_loss: 2.1788 - val_acc: 0.2294\n",
            "Epoch 47/60\n",
            "50/50 [==============================] - 0s 4ms/step - loss: 0.3672 - acc: 0.8053 - val_loss: 1.8488 - val_acc: 0.3250\n",
            "Epoch 48/60\n",
            "50/50 [==============================] - 0s 5ms/step - loss: 0.3661 - acc: 0.8083 - val_loss: 2.0850 - val_acc: 0.2725\n",
            "Epoch 49/60\n",
            "50/50 [==============================] - 0s 4ms/step - loss: 0.3694 - acc: 0.8039 - val_loss: 1.8196 - val_acc: 0.3019\n",
            "Epoch 50/60\n",
            "50/50 [==============================] - 0s 5ms/step - loss: 0.3647 - acc: 0.8117 - val_loss: 2.2235 - val_acc: 0.2406\n",
            "Epoch 51/60\n",
            "50/50 [==============================] - 0s 4ms/step - loss: 0.3600 - acc: 0.8095 - val_loss: 2.0150 - val_acc: 0.2694\n",
            "Epoch 52/60\n",
            "50/50 [==============================] - 0s 4ms/step - loss: 0.3620 - acc: 0.8080 - val_loss: 1.9986 - val_acc: 0.2688\n",
            "Epoch 53/60\n",
            "50/50 [==============================] - 0s 5ms/step - loss: 0.3637 - acc: 0.8078 - val_loss: 1.8887 - val_acc: 0.3056\n",
            "Epoch 54/60\n",
            "50/50 [==============================] - 0s 5ms/step - loss: 0.3600 - acc: 0.8117 - val_loss: 2.2715 - val_acc: 0.2144\n",
            "Epoch 55/60\n",
            "50/50 [==============================] - 0s 4ms/step - loss: 0.3621 - acc: 0.8114 - val_loss: 1.9301 - val_acc: 0.2819\n",
            "Epoch 56/60\n",
            "50/50 [==============================] - 0s 5ms/step - loss: 0.3633 - acc: 0.8094 - val_loss: 1.9624 - val_acc: 0.3144\n",
            "Epoch 57/60\n",
            "50/50 [==============================] - 0s 5ms/step - loss: 0.3556 - acc: 0.8133 - val_loss: 1.9245 - val_acc: 0.3031\n",
            "Epoch 58/60\n",
            "50/50 [==============================] - 0s 5ms/step - loss: 0.3589 - acc: 0.8094 - val_loss: 2.0204 - val_acc: 0.2850\n",
            "Epoch 59/60\n",
            "50/50 [==============================] - 0s 5ms/step - loss: 0.3605 - acc: 0.8106 - val_loss: 2.3552 - val_acc: 0.1956\n",
            "Epoch 60/60\n",
            "50/50 [==============================] - 0s 4ms/step - loss: 0.3520 - acc: 0.8116 - val_loss: 2.2323 - val_acc: 0.2375\n"
          ]
        }
      ]
    },
    {
      "cell_type": "code",
      "source": [
        "import matplotlib.pyplot as plt\n",
        "\n",
        "def loss_visualisation(history):\n",
        "  loss_train = history.history['loss']\n",
        "  loss_val = history.history['val_loss']\n",
        "  epochs = np.arange(1, len(history.history['acc'])+1)\n",
        "  plt.plot(epochs, loss_train, 'g', label='Training loss')\n",
        "  plt.plot(epochs, loss_val, 'b', label='validation loss')\n",
        "  plt.title('Training and Validation loss')\n",
        "  plt.xlabel('Epochs')\n",
        "  plt.ylabel('Loss')\n",
        "  plt.legend()\n",
        "  plt.show()\n",
        "\n",
        "def acc_visualisation(history):\n",
        "  acc_train = history.history['acc']\n",
        "  acc_val = history.history['val_acc']\n",
        "  epochs = np.arange(1, len(history.history['acc'])+1)\n",
        "  plt.plot(epochs, acc_train, 'g', label='Training accuracy')\n",
        "  plt.plot(epochs, acc_val, 'b', label='validation accuracy')\n",
        "  plt.title('Training and Validation accuracy')\n",
        "  plt.xlabel('Epochs')\n",
        "  plt.ylabel('Accuracy')\n",
        "  plt.legend()\n",
        "  plt.show()\n",
        "\n",
        "loss_visualisation(history)\n",
        "acc_visualisation(history)"
      ],
      "metadata": {
        "colab": {
          "base_uri": "https://localhost:8080/",
          "height": 573
        },
        "id": "aTqaEdF5FtR_",
        "outputId": "148f7a06-ac19-44a6-d57e-f00a0559422b"
      },
      "execution_count": null,
      "outputs": [
        {
          "output_type": "display_data",
          "data": {
            "text/plain": [
              "<Figure size 432x288 with 1 Axes>"
            ],
            "image/png": "[encoded data removed]"
          },
          "metadata": {
            "needs_background": "light"
          }
        },
        {
          "output_type": "display_data",
          "data": {
            "text/plain": [
              "<Figure size 432x288 with 1 Axes>"
            ],
            "image/png": "[encoded data removed]"
          },
          "metadata": {
            "needs_background": "light"
          }
        }
      ]
    },
    {
      "cell_type": "code",
      "source": [
        "model = Sequential()\n",
        "model.add(Embedding(max_features, embedding_dim, input_length=max_words))\n",
        "model.add(Flatten())\n",
        "model.add(Dense(128, activation='relu'))\n",
        "model.add(Dropout(0.2))\n",
        "model.add(Dense(128, activation='relu'))\n",
        "model.add(Dense(256, activation='relu'))\n",
        "model.add(Dropout(0.3))\n",
        "model.add(Dense(64, activation='relu'))\n",
        "model.add(Dense(32, activation='relu'))\n",
        "model.add(Dropout(0.4))\n",
        "model.add(Dense(32, activation='relu'))\n",
        "model.add(Dense(16, activation='relu'))\n",
        "model.add(Dense(1, activation='sigmoid'))\n",
        "\n",
        "model.layers[0].set_weights([embedding_matrix])\n",
        "model.layers[0].trainable=False\n",
        "model.summary()\n",
        "\n",
        "model.compile(optimizer='adamax', loss='binary_crossentropy', metrics=['acc'])\n",
        "history_4 = model.fit(train_data, train_labels, epochs=60, batch_size=64, validation_split=0.2)"
      ],
      "metadata": {
        "colab": {
          "base_uri": "https://localhost:8080/"
        },
        "id": "FBh-HlzE6Q1a",
        "outputId": "f4265974-ef3a-4310-93be-5ca3d540f1f6"
      },
      "execution_count": null,
      "outputs": [
        {
          "output_type": "stream",
          "name": "stdout",
          "text": [
            "Model: \"sequential_38\"\n",
            "_________________________________________________________________\n",
            " Layer (type)                Output Shape              Param #   \n",
            "=================================================================\n",
            " embedding_38 (Embedding)    (None, 50, 50)            50000     \n",
            "                                                                 \n",
            " flatten_19 (Flatten)        (None, 2500)              0         \n",
            "                                                                 \n",
            " dense_92 (Dense)            (None, 128)               320128    \n",
            "                                                                 \n",
            " dropout_18 (Dropout)        (None, 128)               0         \n",
            "                                                                 \n",
            " dense_93 (Dense)            (None, 128)               16512     \n",
            "                                                                 \n",
            " dense_94 (Dense)            (None, 256)               33024     \n",
            "                                                                 \n",
            " dropout_19 (Dropout)        (None, 256)               0         \n",
            "                                                                 \n",
            " dense_95 (Dense)            (None, 64)                16448     \n",
            "                                                                 \n",
            " dense_96 (Dense)            (None, 32)                2080      \n",
            "                                                                 \n",
            " dropout_20 (Dropout)        (None, 32)                0         \n",
            "                                                                 \n",
            " dense_97 (Dense)            (None, 32)                1056      \n",
            "                                                                 \n",
            " dense_98 (Dense)            (None, 16)                528       \n",
            "                                                                 \n",
            " dense_99 (Dense)            (None, 1)                 17        \n",
            "                                                                 \n",
            "=================================================================\n",
            "Total params: 439,793\n",
            "Trainable params: 389,793\n",
            "Non-trainable params: 50,000\n",
            "_________________________________________________________________\n",
            "Epoch 1/60\n",
            "100/100 [==============================] - 1s 5ms/step - loss: 0.6696 - acc: 0.6230 - val_loss: 0.9196 - val_acc: 0.0000e+00\n",
            "Epoch 2/60\n",
            "100/100 [==============================] - 0s 4ms/step - loss: 0.6632 - acc: 0.6250 - val_loss: 0.9838 - val_acc: 0.0000e+00\n",
            "Epoch 3/60\n",
            "100/100 [==============================] - 0s 4ms/step - loss: 0.6619 - acc: 0.6250 - val_loss: 1.0152 - val_acc: 0.0000e+00\n",
            "Epoch 4/60\n",
            "100/100 [==============================] - 0s 4ms/step - loss: 0.6598 - acc: 0.6250 - val_loss: 1.0062 - val_acc: 0.0000e+00\n",
            "Epoch 5/60\n",
            "100/100 [==============================] - 0s 4ms/step - loss: 0.6594 - acc: 0.6250 - val_loss: 0.9401 - val_acc: 0.0000e+00\n",
            "Epoch 6/60\n",
            "100/100 [==============================] - 0s 4ms/step - loss: 0.6566 - acc: 0.6250 - val_loss: 0.9556 - val_acc: 0.0000e+00\n",
            "Epoch 7/60\n",
            "100/100 [==============================] - 0s 4ms/step - loss: 0.6567 - acc: 0.6250 - val_loss: 0.9443 - val_acc: 0.0000e+00\n",
            "Epoch 8/60\n",
            "100/100 [==============================] - 0s 4ms/step - loss: 0.6501 - acc: 0.6250 - val_loss: 0.9638 - val_acc: 0.0000e+00\n",
            "Epoch 9/60\n",
            "100/100 [==============================] - 0s 4ms/step - loss: 0.6437 - acc: 0.6250 - val_loss: 0.9467 - val_acc: 0.0000e+00\n",
            "Epoch 10/60\n",
            "100/100 [==============================] - 0s 4ms/step - loss: 0.6415 - acc: 0.6250 - val_loss: 1.0127 - val_acc: 0.0000e+00\n",
            "Epoch 11/60\n",
            "100/100 [==============================] - 0s 4ms/step - loss: 0.6360 - acc: 0.6250 - val_loss: 0.9875 - val_acc: 0.0000e+00\n",
            "Epoch 12/60\n",
            "100/100 [==============================] - 0s 4ms/step - loss: 0.6303 - acc: 0.6248 - val_loss: 1.0058 - val_acc: 0.0000e+00\n",
            "Epoch 13/60\n",
            "100/100 [==============================] - 0s 4ms/step - loss: 0.6237 - acc: 0.6313 - val_loss: 1.1014 - val_acc: 0.0444\n",
            "Epoch 14/60\n",
            "100/100 [==============================] - 0s 4ms/step - loss: 0.6163 - acc: 0.6470 - val_loss: 1.0011 - val_acc: 0.2769\n",
            "Epoch 15/60\n",
            "100/100 [==============================] - 0s 4ms/step - loss: 0.6117 - acc: 0.6548 - val_loss: 1.1060 - val_acc: 0.2262\n",
            "Epoch 16/60\n",
            "100/100 [==============================] - 0s 4ms/step - loss: 0.6010 - acc: 0.6659 - val_loss: 0.9699 - val_acc: 0.3644\n",
            "Epoch 17/60\n",
            "100/100 [==============================] - 0s 4ms/step - loss: 0.5932 - acc: 0.6736 - val_loss: 1.1025 - val_acc: 0.2800\n",
            "Epoch 18/60\n",
            "100/100 [==============================] - 0s 4ms/step - loss: 0.5854 - acc: 0.6792 - val_loss: 1.2334 - val_acc: 0.2094\n",
            "Epoch 19/60\n",
            "100/100 [==============================] - 0s 4ms/step - loss: 0.5756 - acc: 0.6867 - val_loss: 0.9857 - val_acc: 0.3837\n",
            "Epoch 20/60\n",
            "100/100 [==============================] - 0s 4ms/step - loss: 0.5659 - acc: 0.6939 - val_loss: 1.0717 - val_acc: 0.2962\n",
            "Epoch 21/60\n",
            "100/100 [==============================] - 0s 4ms/step - loss: 0.5628 - acc: 0.7023 - val_loss: 1.2817 - val_acc: 0.2138\n",
            "Epoch 22/60\n",
            "100/100 [==============================] - 0s 4ms/step - loss: 0.5535 - acc: 0.7059 - val_loss: 1.1642 - val_acc: 0.2706\n",
            "Epoch 23/60\n",
            "100/100 [==============================] - 0s 4ms/step - loss: 0.5473 - acc: 0.7022 - val_loss: 0.9777 - val_acc: 0.3775\n",
            "Epoch 24/60\n",
            "100/100 [==============================] - 0s 4ms/step - loss: 0.5384 - acc: 0.7173 - val_loss: 1.4006 - val_acc: 0.1894\n",
            "Epoch 25/60\n",
            "100/100 [==============================] - 0s 4ms/step - loss: 0.5264 - acc: 0.7225 - val_loss: 1.3145 - val_acc: 0.2669\n",
            "Epoch 26/60\n",
            "100/100 [==============================] - 0s 4ms/step - loss: 0.5256 - acc: 0.7266 - val_loss: 1.1534 - val_acc: 0.3100\n",
            "Epoch 27/60\n",
            "100/100 [==============================] - 0s 4ms/step - loss: 0.5235 - acc: 0.7234 - val_loss: 1.1949 - val_acc: 0.3025\n",
            "Epoch 28/60\n",
            "100/100 [==============================] - 0s 4ms/step - loss: 0.5114 - acc: 0.7306 - val_loss: 1.4863 - val_acc: 0.2181\n",
            "Epoch 29/60\n",
            "100/100 [==============================] - 0s 4ms/step - loss: 0.5027 - acc: 0.7389 - val_loss: 1.4313 - val_acc: 0.2406\n",
            "Epoch 30/60\n",
            "100/100 [==============================] - 0s 4ms/step - loss: 0.4985 - acc: 0.7387 - val_loss: 1.5275 - val_acc: 0.2006\n",
            "Epoch 31/60\n",
            "100/100 [==============================] - 0s 4ms/step - loss: 0.4949 - acc: 0.7344 - val_loss: 1.6265 - val_acc: 0.2163\n",
            "Epoch 32/60\n",
            "100/100 [==============================] - 0s 4ms/step - loss: 0.4932 - acc: 0.7386 - val_loss: 1.4614 - val_acc: 0.2113\n",
            "Epoch 33/60\n",
            "100/100 [==============================] - 0s 4ms/step - loss: 0.4784 - acc: 0.7487 - val_loss: 1.7966 - val_acc: 0.1856\n",
            "Epoch 34/60\n",
            "100/100 [==============================] - 0s 4ms/step - loss: 0.4798 - acc: 0.7486 - val_loss: 1.5927 - val_acc: 0.2569\n",
            "Epoch 35/60\n",
            "100/100 [==============================] - 0s 4ms/step - loss: 0.4726 - acc: 0.7497 - val_loss: 1.4333 - val_acc: 0.2725\n",
            "Epoch 36/60\n",
            "100/100 [==============================] - 0s 4ms/step - loss: 0.4734 - acc: 0.7580 - val_loss: 1.5807 - val_acc: 0.2394\n",
            "Epoch 37/60\n",
            "100/100 [==============================] - 0s 4ms/step - loss: 0.4637 - acc: 0.7591 - val_loss: 1.6147 - val_acc: 0.2225\n",
            "Epoch 38/60\n",
            "100/100 [==============================] - 0s 4ms/step - loss: 0.4582 - acc: 0.7580 - val_loss: 1.6077 - val_acc: 0.2812\n",
            "Epoch 39/60\n",
            "100/100 [==============================] - 0s 4ms/step - loss: 0.4557 - acc: 0.7589 - val_loss: 1.6846 - val_acc: 0.2325\n",
            "Epoch 40/60\n",
            "100/100 [==============================] - 0s 4ms/step - loss: 0.4570 - acc: 0.7577 - val_loss: 1.7023 - val_acc: 0.2262\n",
            "Epoch 41/60\n",
            "100/100 [==============================] - 0s 4ms/step - loss: 0.4494 - acc: 0.7625 - val_loss: 1.8468 - val_acc: 0.2050\n",
            "Epoch 42/60\n",
            "100/100 [==============================] - 0s 4ms/step - loss: 0.4449 - acc: 0.7714 - val_loss: 1.6984 - val_acc: 0.2450\n",
            "Epoch 43/60\n",
            "100/100 [==============================] - 0s 4ms/step - loss: 0.4429 - acc: 0.7683 - val_loss: 1.8497 - val_acc: 0.2256\n",
            "Epoch 44/60\n",
            "100/100 [==============================] - 0s 4ms/step - loss: 0.4383 - acc: 0.7695 - val_loss: 1.7341 - val_acc: 0.2475\n",
            "Epoch 45/60\n",
            "100/100 [==============================] - 0s 4ms/step - loss: 0.4325 - acc: 0.7756 - val_loss: 1.7926 - val_acc: 0.2344\n",
            "Epoch 46/60\n",
            "100/100 [==============================] - 0s 4ms/step - loss: 0.4301 - acc: 0.7747 - val_loss: 2.1026 - val_acc: 0.1838\n",
            "Epoch 47/60\n",
            "100/100 [==============================] - 0s 4ms/step - loss: 0.4292 - acc: 0.7744 - val_loss: 2.1826 - val_acc: 0.2237\n",
            "Epoch 48/60\n",
            "100/100 [==============================] - 0s 4ms/step - loss: 0.4240 - acc: 0.7767 - val_loss: 2.1238 - val_acc: 0.2381\n",
            "Epoch 49/60\n",
            "100/100 [==============================] - 0s 4ms/step - loss: 0.4273 - acc: 0.7738 - val_loss: 1.9169 - val_acc: 0.2262\n",
            "Epoch 50/60\n",
            "100/100 [==============================] - 0s 4ms/step - loss: 0.4262 - acc: 0.7734 - val_loss: 2.1240 - val_acc: 0.2194\n",
            "Epoch 51/60\n",
            "100/100 [==============================] - 0s 4ms/step - loss: 0.4237 - acc: 0.7794 - val_loss: 1.9757 - val_acc: 0.2550\n",
            "Epoch 52/60\n",
            "100/100 [==============================] - 0s 4ms/step - loss: 0.4170 - acc: 0.7773 - val_loss: 2.2197 - val_acc: 0.2125\n",
            "Epoch 53/60\n",
            "100/100 [==============================] - 0s 4ms/step - loss: 0.4233 - acc: 0.7767 - val_loss: 1.9849 - val_acc: 0.2387\n",
            "Epoch 54/60\n",
            "100/100 [==============================] - 0s 4ms/step - loss: 0.4111 - acc: 0.7842 - val_loss: 2.2415 - val_acc: 0.2250\n",
            "Epoch 55/60\n",
            "100/100 [==============================] - 0s 4ms/step - loss: 0.4120 - acc: 0.7848 - val_loss: 2.1520 - val_acc: 0.2419\n",
            "Epoch 56/60\n",
            "100/100 [==============================] - 0s 4ms/step - loss: 0.4169 - acc: 0.7820 - val_loss: 2.1860 - val_acc: 0.2206\n",
            "Epoch 57/60\n",
            "100/100 [==============================] - 0s 4ms/step - loss: 0.4072 - acc: 0.7798 - val_loss: 2.2280 - val_acc: 0.2594\n",
            "Epoch 58/60\n",
            "100/100 [==============================] - 0s 4ms/step - loss: 0.4103 - acc: 0.7842 - val_loss: 2.2186 - val_acc: 0.2256\n",
            "Epoch 59/60\n",
            "100/100 [==============================] - 0s 4ms/step - loss: 0.4047 - acc: 0.7839 - val_loss: 2.4859 - val_acc: 0.2431\n",
            "Epoch 60/60\n",
            "100/100 [==============================] - 0s 4ms/step - loss: 0.3988 - acc: 0.7848 - val_loss: 2.4938 - val_acc: 0.2156\n"
          ]
        }
      ]
    },
    {
      "cell_type": "code",
      "source": [
        "model = Sequential()\n",
        "model.add(Embedding(max_features, embedding_dim, input_length=max_words))\n",
        "model.add(Flatten())\n",
        "model.add(Dense(16, activation='relu'))\n",
        "model.add(Dense(16))\n",
        "model.add(Dense(16, activation='relu'))\n",
        "model.add(Dense(16))\n",
        "model.add(Dense(16, activation='relu'))\n",
        "model.add(Dense(16))\n",
        "model.add(Dense(16, activation='relu'))\n",
        "model.add(Dense(1, activation='sigmoid'))\n",
        "\n",
        "model.layers[0].set_weights([embedding_matrix])\n",
        "model.layers[0].trainable=False\n",
        "model.summary()\n",
        "\n",
        "model.compile(optimizer='adamax', loss='binary_crossentropy', metrics=['acc'])\n",
        "history_4 = model.fit(train_data, train_labels, epochs=60, batch_size=16, validation_split=0.2)"
      ],
      "metadata": {
        "colab": {
          "base_uri": "https://localhost:8080/"
        },
        "id": "XQALoaTb_WRr",
        "outputId": "00cf3d18-d6df-4687-e246-2fd7d8d56e16"
      },
      "execution_count": null,
      "outputs": [
        {
          "output_type": "stream",
          "name": "stdout",
          "text": [
            "Model: \"sequential_39\"\n",
            "_________________________________________________________________\n",
            " Layer (type)                Output Shape              Param #   \n",
            "=================================================================\n",
            " embedding_39 (Embedding)    (None, 50, 50)            50000     \n",
            "                                                                 \n",
            " flatten_20 (Flatten)        (None, 2500)              0         \n",
            "                                                                 \n",
            " dense_100 (Dense)           (None, 16)                40016     \n",
            "                                                                 \n",
            " dense_101 (Dense)           (None, 16)                272       \n",
            "                                                                 \n",
            " dense_102 (Dense)           (None, 16)                272       \n",
            "                                                                 \n",
            " dense_103 (Dense)           (None, 16)                272       \n",
            "                                                                 \n",
            " dense_104 (Dense)           (None, 16)                272       \n",
            "                                                                 \n",
            " dense_105 (Dense)           (None, 16)                272       \n",
            "                                                                 \n",
            " dense_106 (Dense)           (None, 16)                272       \n",
            "                                                                 \n",
            " dense_107 (Dense)           (None, 1)                 17        \n",
            "                                                                 \n",
            "=================================================================\n",
            "Total params: 91,665\n",
            "Trainable params: 41,665\n",
            "Non-trainable params: 50,000\n",
            "_________________________________________________________________\n",
            "Epoch 1/60\n",
            "400/400 [==============================] - 2s 4ms/step - loss: 0.6661 - acc: 0.6256 - val_loss: 0.9950 - val_acc: 0.0000e+00\n",
            "Epoch 2/60\n",
            "400/400 [==============================] - 1s 3ms/step - loss: 0.6611 - acc: 0.6250 - val_loss: 0.9640 - val_acc: 0.0000e+00\n",
            "Epoch 3/60\n",
            "400/400 [==============================] - 1s 4ms/step - loss: 0.6594 - acc: 0.6250 - val_loss: 0.9537 - val_acc: 0.0000e+00\n",
            "Epoch 4/60\n",
            "400/400 [==============================] - 1s 3ms/step - loss: 0.6573 - acc: 0.6267 - val_loss: 0.9757 - val_acc: 0.0000e+00\n",
            "Epoch 5/60\n",
            "400/400 [==============================] - 1s 4ms/step - loss: 0.6533 - acc: 0.6259 - val_loss: 1.0913 - val_acc: 0.0025\n",
            "Epoch 6/60\n",
            "400/400 [==============================] - 1s 4ms/step - loss: 0.6495 - acc: 0.6294 - val_loss: 1.0460 - val_acc: 0.0525\n",
            "Epoch 7/60\n",
            "400/400 [==============================] - 1s 4ms/step - loss: 0.6442 - acc: 0.6359 - val_loss: 0.9671 - val_acc: 0.0456\n",
            "Epoch 8/60\n",
            "400/400 [==============================] - 1s 3ms/step - loss: 0.6383 - acc: 0.6402 - val_loss: 1.0095 - val_acc: 0.0931\n",
            "Epoch 9/60\n",
            "400/400 [==============================] - 1s 4ms/step - loss: 0.6326 - acc: 0.6456 - val_loss: 0.9688 - val_acc: 0.1025\n",
            "Epoch 10/60\n",
            "400/400 [==============================] - 1s 4ms/step - loss: 0.6268 - acc: 0.6477 - val_loss: 1.0849 - val_acc: 0.0763\n",
            "Epoch 11/60\n",
            "400/400 [==============================] - 1s 4ms/step - loss: 0.6206 - acc: 0.6564 - val_loss: 1.0535 - val_acc: 0.1219\n",
            "Epoch 12/60\n",
            "400/400 [==============================] - 1s 3ms/step - loss: 0.6125 - acc: 0.6614 - val_loss: 0.9504 - val_acc: 0.1975\n",
            "Epoch 13/60\n",
            "400/400 [==============================] - 1s 4ms/step - loss: 0.6037 - acc: 0.6678 - val_loss: 0.9944 - val_acc: 0.2025\n",
            "Epoch 14/60\n",
            "400/400 [==============================] - 1s 4ms/step - loss: 0.5975 - acc: 0.6709 - val_loss: 1.0175 - val_acc: 0.1969\n",
            "Epoch 15/60\n",
            "400/400 [==============================] - 1s 3ms/step - loss: 0.5921 - acc: 0.6737 - val_loss: 1.1256 - val_acc: 0.1462\n",
            "Epoch 16/60\n",
            "400/400 [==============================] - 1s 4ms/step - loss: 0.5867 - acc: 0.6819 - val_loss: 1.1681 - val_acc: 0.1437\n",
            "Epoch 17/60\n",
            "400/400 [==============================] - 1s 4ms/step - loss: 0.5766 - acc: 0.6913 - val_loss: 1.1254 - val_acc: 0.1881\n",
            "Epoch 18/60\n",
            "400/400 [==============================] - 1s 3ms/step - loss: 0.5753 - acc: 0.6881 - val_loss: 1.1176 - val_acc: 0.2069\n",
            "Epoch 19/60\n",
            "400/400 [==============================] - 1s 4ms/step - loss: 0.5683 - acc: 0.6905 - val_loss: 1.1264 - val_acc: 0.1981\n",
            "Epoch 20/60\n",
            "400/400 [==============================] - 1s 3ms/step - loss: 0.5621 - acc: 0.6939 - val_loss: 0.9848 - val_acc: 0.3038\n",
            "Epoch 21/60\n",
            "400/400 [==============================] - 1s 3ms/step - loss: 0.5575 - acc: 0.6972 - val_loss: 1.2897 - val_acc: 0.1625\n",
            "Epoch 22/60\n",
            "400/400 [==============================] - 1s 3ms/step - loss: 0.5493 - acc: 0.7011 - val_loss: 1.2217 - val_acc: 0.2113\n",
            "Epoch 23/60\n",
            "400/400 [==============================] - 1s 3ms/step - loss: 0.5467 - acc: 0.7045 - val_loss: 1.0627 - val_acc: 0.2744\n",
            "Epoch 24/60\n",
            "400/400 [==============================] - 1s 4ms/step - loss: 0.5426 - acc: 0.7053 - val_loss: 1.2364 - val_acc: 0.2281\n",
            "Epoch 25/60\n",
            "400/400 [==============================] - 1s 3ms/step - loss: 0.5375 - acc: 0.7072 - val_loss: 1.1072 - val_acc: 0.2587\n",
            "Epoch 26/60\n",
            "400/400 [==============================] - 1s 4ms/step - loss: 0.5333 - acc: 0.7067 - val_loss: 1.2030 - val_acc: 0.2681\n",
            "Epoch 27/60\n",
            "400/400 [==============================] - 1s 4ms/step - loss: 0.5275 - acc: 0.7181 - val_loss: 1.1385 - val_acc: 0.2975\n",
            "Epoch 28/60\n",
            "400/400 [==============================] - 1s 3ms/step - loss: 0.5248 - acc: 0.7178 - val_loss: 1.1464 - val_acc: 0.2812\n",
            "Epoch 29/60\n",
            "400/400 [==============================] - 1s 4ms/step - loss: 0.5207 - acc: 0.7227 - val_loss: 1.3081 - val_acc: 0.2419\n",
            "Epoch 30/60\n",
            "400/400 [==============================] - 1s 3ms/step - loss: 0.5165 - acc: 0.7269 - val_loss: 1.3463 - val_acc: 0.2475\n",
            "Epoch 31/60\n",
            "400/400 [==============================] - 1s 4ms/step - loss: 0.5110 - acc: 0.7286 - val_loss: 1.2376 - val_acc: 0.3250\n",
            "Epoch 32/60\n",
            "400/400 [==============================] - 1s 3ms/step - loss: 0.5089 - acc: 0.7294 - val_loss: 1.3396 - val_acc: 0.2375\n",
            "Epoch 33/60\n",
            "400/400 [==============================] - 1s 4ms/step - loss: 0.5074 - acc: 0.7298 - val_loss: 1.4343 - val_acc: 0.2250\n",
            "Epoch 34/60\n",
            "400/400 [==============================] - 1s 3ms/step - loss: 0.5022 - acc: 0.7352 - val_loss: 1.3554 - val_acc: 0.2606\n",
            "Epoch 35/60\n",
            "400/400 [==============================] - 1s 4ms/step - loss: 0.5016 - acc: 0.7328 - val_loss: 1.4000 - val_acc: 0.2619\n",
            "Epoch 36/60\n",
            "400/400 [==============================] - 1s 3ms/step - loss: 0.4966 - acc: 0.7342 - val_loss: 1.4284 - val_acc: 0.2781\n",
            "Epoch 37/60\n",
            "400/400 [==============================] - 1s 3ms/step - loss: 0.4946 - acc: 0.7370 - val_loss: 1.4370 - val_acc: 0.2750\n",
            "Epoch 38/60\n",
            "400/400 [==============================] - 1s 4ms/step - loss: 0.4943 - acc: 0.7380 - val_loss: 1.4952 - val_acc: 0.2694\n",
            "Epoch 39/60\n",
            "400/400 [==============================] - 1s 3ms/step - loss: 0.4892 - acc: 0.7442 - val_loss: 1.6679 - val_acc: 0.2231\n",
            "Epoch 40/60\n",
            "400/400 [==============================] - 1s 4ms/step - loss: 0.4851 - acc: 0.7437 - val_loss: 1.7164 - val_acc: 0.2231\n",
            "Epoch 41/60\n",
            "400/400 [==============================] - 1s 4ms/step - loss: 0.4852 - acc: 0.7384 - val_loss: 1.6371 - val_acc: 0.2431\n",
            "Epoch 42/60\n",
            "400/400 [==============================] - 1s 3ms/step - loss: 0.4812 - acc: 0.7441 - val_loss: 1.5541 - val_acc: 0.2512\n",
            "Epoch 43/60\n",
            "400/400 [==============================] - 1s 3ms/step - loss: 0.4811 - acc: 0.7461 - val_loss: 1.4617 - val_acc: 0.2806\n",
            "Epoch 44/60\n",
            "400/400 [==============================] - 1s 3ms/step - loss: 0.4777 - acc: 0.7486 - val_loss: 1.5188 - val_acc: 0.2769\n",
            "Epoch 45/60\n",
            "400/400 [==============================] - 2s 5ms/step - loss: 0.4729 - acc: 0.7494 - val_loss: 1.7027 - val_acc: 0.2506\n",
            "Epoch 46/60\n",
            "400/400 [==============================] - 1s 3ms/step - loss: 0.4745 - acc: 0.7456 - val_loss: 1.6305 - val_acc: 0.2669\n",
            "Epoch 47/60\n",
            "400/400 [==============================] - 1s 3ms/step - loss: 0.4701 - acc: 0.7519 - val_loss: 1.8242 - val_acc: 0.2431\n",
            "Epoch 48/60\n",
            "400/400 [==============================] - 2s 6ms/step - loss: 0.4697 - acc: 0.7523 - val_loss: 1.6359 - val_acc: 0.2669\n",
            "Epoch 49/60\n",
            "400/400 [==============================] - 2s 6ms/step - loss: 0.4701 - acc: 0.7527 - val_loss: 1.4609 - val_acc: 0.2994\n",
            "Epoch 50/60\n",
            "400/400 [==============================] - 1s 4ms/step - loss: 0.4641 - acc: 0.7547 - val_loss: 1.8335 - val_acc: 0.2544\n",
            "Epoch 51/60\n",
            "400/400 [==============================] - 1s 3ms/step - loss: 0.4637 - acc: 0.7566 - val_loss: 1.6815 - val_acc: 0.2719\n",
            "Epoch 52/60\n",
            "400/400 [==============================] - 1s 4ms/step - loss: 0.4601 - acc: 0.7547 - val_loss: 1.8574 - val_acc: 0.2237\n",
            "Epoch 53/60\n",
            "400/400 [==============================] - 1s 4ms/step - loss: 0.4619 - acc: 0.7577 - val_loss: 1.8560 - val_acc: 0.2819\n",
            "Epoch 54/60\n",
            "400/400 [==============================] - 1s 3ms/step - loss: 0.4596 - acc: 0.7539 - val_loss: 1.8572 - val_acc: 0.2519\n",
            "Epoch 55/60\n",
            "400/400 [==============================] - 1s 4ms/step - loss: 0.4571 - acc: 0.7563 - val_loss: 1.9078 - val_acc: 0.2344\n",
            "Epoch 56/60\n",
            "400/400 [==============================] - 1s 3ms/step - loss: 0.4587 - acc: 0.7567 - val_loss: 1.8061 - val_acc: 0.2400\n",
            "Epoch 57/60\n",
            "400/400 [==============================] - 1s 4ms/step - loss: 0.4548 - acc: 0.7578 - val_loss: 1.8148 - val_acc: 0.2725\n",
            "Epoch 58/60\n",
            "400/400 [==============================] - 1s 4ms/step - loss: 0.4525 - acc: 0.7622 - val_loss: 1.7220 - val_acc: 0.2750\n",
            "Epoch 59/60\n",
            "400/400 [==============================] - 1s 3ms/step - loss: 0.4505 - acc: 0.7622 - val_loss: 2.1166 - val_acc: 0.2488\n",
            "Epoch 60/60\n",
            "400/400 [==============================] - 1s 4ms/step - loss: 0.4513 - acc: 0.7616 - val_loss: 1.6935 - val_acc: 0.3162\n"
          ]
        }
      ]
    },
    {
      "cell_type": "code",
      "source": [
        "model = Sequential()\n",
        "model.add(Embedding(max_features, embedding_dim, input_length=max_words))\n",
        "model.add(Flatten())\n",
        "model.add(Dense(128, activation='relu'))\n",
        "model.add(Dense(256, activation='relu'))\n",
        "model.add(Dense(512, activation='relu'))\n",
        "model.add(Dense(32, activation='relu'))\n",
        "model.add(Dense(1, activation='sigmoid'))\n",
        "\n",
        "model.layers[0].set_weights([embedding_matrix])\n",
        "model.layers[0].trainable=False\n",
        "model.summary()\n",
        "\n",
        "model.compile(optimizer='nadam', loss='binary_crossentropy', metrics=['acc'])\n",
        "history_5 = model.fit(train_data, train_labels, epochs=60, batch_size=64, validation_split=0.2)"
      ],
      "metadata": {
        "colab": {
          "base_uri": "https://localhost:8080/"
        },
        "id": "S-LeoJfkAdgD",
        "outputId": "efa513f5-4079-4e04-a308-834924805ad0"
      },
      "execution_count": null,
      "outputs": [
        {
          "output_type": "stream",
          "name": "stdout",
          "text": [
            "Model: \"sequential_40\"\n",
            "_________________________________________________________________\n",
            " Layer (type)                Output Shape              Param #   \n",
            "=================================================================\n",
            " embedding_40 (Embedding)    (None, 50, 50)            50000     \n",
            "                                                                 \n",
            " flatten_21 (Flatten)        (None, 2500)              0         \n",
            "                                                                 \n",
            " dense_108 (Dense)           (None, 128)               320128    \n",
            "                                                                 \n",
            " dense_109 (Dense)           (None, 256)               33024     \n",
            "                                                                 \n",
            " dense_110 (Dense)           (None, 512)               131584    \n",
            "                                                                 \n",
            " dense_111 (Dense)           (None, 32)                16416     \n",
            "                                                                 \n",
            " dense_112 (Dense)           (None, 1)                 33        \n",
            "                                                                 \n",
            "=================================================================\n",
            "Total params: 551,185\n",
            "Trainable params: 501,185\n",
            "Non-trainable params: 50,000\n",
            "_________________________________________________________________\n",
            "Epoch 1/60\n",
            "100/100 [==============================] - 2s 6ms/step - loss: 0.6685 - acc: 0.6220 - val_loss: 0.9969 - val_acc: 0.0000e+00\n",
            "Epoch 2/60\n",
            "100/100 [==============================] - 0s 5ms/step - loss: 0.6614 - acc: 0.6258 - val_loss: 0.9728 - val_acc: 0.0000e+00\n",
            "Epoch 3/60\n",
            "100/100 [==============================] - 0s 5ms/step - loss: 0.6564 - acc: 0.6263 - val_loss: 0.9544 - val_acc: 0.0019\n",
            "Epoch 4/60\n",
            "100/100 [==============================] - 0s 5ms/step - loss: 0.6487 - acc: 0.6309 - val_loss: 1.0136 - val_acc: 0.0675\n",
            "Epoch 5/60\n",
            "100/100 [==============================] - 0s 5ms/step - loss: 0.6377 - acc: 0.6364 - val_loss: 0.9309 - val_acc: 0.1338\n",
            "Epoch 6/60\n",
            "100/100 [==============================] - 0s 5ms/step - loss: 0.6203 - acc: 0.6514 - val_loss: 1.1128 - val_acc: 0.0538\n",
            "Epoch 7/60\n",
            "100/100 [==============================] - 0s 5ms/step - loss: 0.5969 - acc: 0.6673 - val_loss: 0.8992 - val_acc: 0.2044\n",
            "Epoch 8/60\n",
            "100/100 [==============================] - 0s 5ms/step - loss: 0.5721 - acc: 0.6889 - val_loss: 1.1497 - val_acc: 0.2025\n",
            "Epoch 9/60\n",
            "100/100 [==============================] - 0s 5ms/step - loss: 0.5508 - acc: 0.7016 - val_loss: 1.3484 - val_acc: 0.1813\n",
            "Epoch 10/60\n",
            "100/100 [==============================] - 0s 5ms/step - loss: 0.5237 - acc: 0.7170 - val_loss: 1.5496 - val_acc: 0.1331\n",
            "Epoch 11/60\n",
            "100/100 [==============================] - 0s 5ms/step - loss: 0.4962 - acc: 0.7348 - val_loss: 1.6178 - val_acc: 0.1437\n",
            "Epoch 12/60\n",
            "100/100 [==============================] - 0s 5ms/step - loss: 0.4817 - acc: 0.7397 - val_loss: 2.0005 - val_acc: 0.0988\n",
            "Epoch 13/60\n",
            "100/100 [==============================] - 0s 5ms/step - loss: 0.4708 - acc: 0.7453 - val_loss: 1.4339 - val_acc: 0.2656\n",
            "Epoch 14/60\n",
            "100/100 [==============================] - 0s 5ms/step - loss: 0.4491 - acc: 0.7609 - val_loss: 1.6513 - val_acc: 0.2225\n",
            "Epoch 15/60\n",
            "100/100 [==============================] - 0s 5ms/step - loss: 0.4316 - acc: 0.7678 - val_loss: 2.2775 - val_acc: 0.1794\n",
            "Epoch 16/60\n",
            "100/100 [==============================] - 0s 4ms/step - loss: 0.4204 - acc: 0.7742 - val_loss: 2.1275 - val_acc: 0.1612\n",
            "Epoch 17/60\n",
            "100/100 [==============================] - 0s 4ms/step - loss: 0.4128 - acc: 0.7748 - val_loss: 1.9925 - val_acc: 0.1894\n",
            "Epoch 18/60\n",
            "100/100 [==============================] - 0s 4ms/step - loss: 0.3971 - acc: 0.7847 - val_loss: 2.7903 - val_acc: 0.1838\n",
            "Epoch 19/60\n",
            "100/100 [==============================] - 0s 4ms/step - loss: 0.3990 - acc: 0.7869 - val_loss: 1.9570 - val_acc: 0.2381\n",
            "Epoch 20/60\n",
            "100/100 [==============================] - 0s 5ms/step - loss: 0.3868 - acc: 0.7884 - val_loss: 2.2090 - val_acc: 0.2625\n",
            "Epoch 21/60\n",
            "100/100 [==============================] - 0s 4ms/step - loss: 0.3772 - acc: 0.7962 - val_loss: 2.1144 - val_acc: 0.2725\n",
            "Epoch 22/60\n",
            "100/100 [==============================] - 0s 5ms/step - loss: 0.3755 - acc: 0.7975 - val_loss: 2.5362 - val_acc: 0.2338\n",
            "Epoch 23/60\n",
            "100/100 [==============================] - 0s 5ms/step - loss: 0.3712 - acc: 0.7956 - val_loss: 2.7067 - val_acc: 0.2350\n",
            "Epoch 24/60\n",
            "100/100 [==============================] - 0s 5ms/step - loss: 0.3794 - acc: 0.7997 - val_loss: 2.5113 - val_acc: 0.2275\n",
            "Epoch 25/60\n",
            "100/100 [==============================] - 0s 4ms/step - loss: 0.3596 - acc: 0.8023 - val_loss: 2.5661 - val_acc: 0.2394\n",
            "Epoch 26/60\n",
            "100/100 [==============================] - 0s 5ms/step - loss: 0.3536 - acc: 0.8064 - val_loss: 2.6179 - val_acc: 0.2262\n",
            "Epoch 27/60\n",
            "100/100 [==============================] - 0s 4ms/step - loss: 0.3437 - acc: 0.8087 - val_loss: 2.9293 - val_acc: 0.2663\n",
            "Epoch 28/60\n",
            "100/100 [==============================] - 0s 5ms/step - loss: 0.3536 - acc: 0.8062 - val_loss: 2.5921 - val_acc: 0.2544\n",
            "Epoch 29/60\n",
            "100/100 [==============================] - 0s 4ms/step - loss: 0.3478 - acc: 0.8077 - val_loss: 2.9036 - val_acc: 0.2269\n",
            "Epoch 30/60\n",
            "100/100 [==============================] - 0s 5ms/step - loss: 0.3607 - acc: 0.8020 - val_loss: 2.6905 - val_acc: 0.2531\n",
            "Epoch 31/60\n",
            "100/100 [==============================] - 0s 5ms/step - loss: 0.3415 - acc: 0.8109 - val_loss: 2.9926 - val_acc: 0.2069\n",
            "Epoch 32/60\n",
            "100/100 [==============================] - 0s 5ms/step - loss: 0.3399 - acc: 0.8106 - val_loss: 3.0077 - val_acc: 0.2431\n",
            "Epoch 33/60\n",
            "100/100 [==============================] - 0s 5ms/step - loss: 0.3385 - acc: 0.8139 - val_loss: 3.0428 - val_acc: 0.2594\n",
            "Epoch 34/60\n",
            "100/100 [==============================] - 0s 5ms/step - loss: 0.3296 - acc: 0.8170 - val_loss: 2.9101 - val_acc: 0.2681\n",
            "Epoch 35/60\n",
            "100/100 [==============================] - 0s 5ms/step - loss: 0.3217 - acc: 0.8217 - val_loss: 3.8085 - val_acc: 0.2175\n",
            "Epoch 36/60\n",
            "100/100 [==============================] - 0s 4ms/step - loss: 0.3193 - acc: 0.8197 - val_loss: 3.5651 - val_acc: 0.2587\n",
            "Epoch 37/60\n",
            "100/100 [==============================] - 0s 5ms/step - loss: 0.3323 - acc: 0.8139 - val_loss: 3.0664 - val_acc: 0.2756\n",
            "Epoch 38/60\n",
            "100/100 [==============================] - 0s 5ms/step - loss: 0.3203 - acc: 0.8175 - val_loss: 3.8971 - val_acc: 0.2550\n",
            "Epoch 39/60\n",
            "100/100 [==============================] - 1s 5ms/step - loss: 0.3344 - acc: 0.8116 - val_loss: 3.5100 - val_acc: 0.2556\n",
            "Epoch 40/60\n",
            "100/100 [==============================] - 0s 5ms/step - loss: 0.3278 - acc: 0.8166 - val_loss: 3.3381 - val_acc: 0.2869\n",
            "Epoch 41/60\n",
            "100/100 [==============================] - 0s 5ms/step - loss: 0.3428 - acc: 0.8122 - val_loss: 3.1363 - val_acc: 0.2512\n",
            "Epoch 42/60\n",
            "100/100 [==============================] - 0s 5ms/step - loss: 0.3336 - acc: 0.8173 - val_loss: 3.5509 - val_acc: 0.2031\n",
            "Epoch 43/60\n",
            "100/100 [==============================] - 0s 5ms/step - loss: 0.3212 - acc: 0.8231 - val_loss: 3.0032 - val_acc: 0.3094\n",
            "Epoch 44/60\n",
            "100/100 [==============================] - 0s 5ms/step - loss: 0.3305 - acc: 0.8142 - val_loss: 3.1135 - val_acc: 0.2850\n",
            "Epoch 45/60\n",
            "100/100 [==============================] - 0s 5ms/step - loss: 0.3266 - acc: 0.8159 - val_loss: 3.1795 - val_acc: 0.2831\n",
            "Epoch 46/60\n",
            "100/100 [==============================] - 0s 5ms/step - loss: 0.3218 - acc: 0.8183 - val_loss: 3.4037 - val_acc: 0.2875\n",
            "Epoch 47/60\n",
            "100/100 [==============================] - 0s 5ms/step - loss: 0.3155 - acc: 0.8238 - val_loss: 3.7946 - val_acc: 0.2331\n",
            "Epoch 48/60\n",
            "100/100 [==============================] - 0s 5ms/step - loss: 0.3113 - acc: 0.8239 - val_loss: 3.4822 - val_acc: 0.2869\n",
            "Epoch 49/60\n",
            "100/100 [==============================] - 0s 5ms/step - loss: 0.3116 - acc: 0.8255 - val_loss: 4.2333 - val_acc: 0.2575\n",
            "Epoch 50/60\n",
            "100/100 [==============================] - 0s 5ms/step - loss: 0.3065 - acc: 0.8255 - val_loss: 4.2766 - val_acc: 0.2581\n",
            "Epoch 51/60\n",
            "100/100 [==============================] - 0s 5ms/step - loss: 0.3027 - acc: 0.8270 - val_loss: 4.2207 - val_acc: 0.2494\n",
            "Epoch 52/60\n",
            "100/100 [==============================] - 0s 5ms/step - loss: 0.3031 - acc: 0.8266 - val_loss: 5.1972 - val_acc: 0.2344\n",
            "Epoch 53/60\n",
            "100/100 [==============================] - 0s 4ms/step - loss: 0.3012 - acc: 0.8283 - val_loss: 4.6554 - val_acc: 0.2450\n",
            "Epoch 54/60\n",
            "100/100 [==============================] - 0s 5ms/step - loss: 0.3046 - acc: 0.8267 - val_loss: 4.8807 - val_acc: 0.2412\n",
            "Epoch 55/60\n",
            "100/100 [==============================] - 0s 4ms/step - loss: 0.3071 - acc: 0.8281 - val_loss: 4.4692 - val_acc: 0.2406\n",
            "Epoch 56/60\n",
            "100/100 [==============================] - 1s 5ms/step - loss: 0.3222 - acc: 0.8198 - val_loss: 3.9003 - val_acc: 0.2562\n",
            "Epoch 57/60\n",
            "100/100 [==============================] - 0s 5ms/step - loss: 0.3206 - acc: 0.8206 - val_loss: 4.4042 - val_acc: 0.2350\n",
            "Epoch 58/60\n",
            "100/100 [==============================] - 0s 5ms/step - loss: 0.3389 - acc: 0.8153 - val_loss: 3.5294 - val_acc: 0.2250\n",
            "Epoch 59/60\n",
            "100/100 [==============================] - 0s 4ms/step - loss: 0.3283 - acc: 0.8205 - val_loss: 3.6410 - val_acc: 0.2550\n",
            "Epoch 60/60\n",
            "100/100 [==============================] - 0s 5ms/step - loss: 0.3232 - acc: 0.8214 - val_loss: 3.7730 - val_acc: 0.2506\n"
          ]
        }
      ]
    },
    {
      "cell_type": "code",
      "source": [
        "model = Sequential()\n",
        "model.add(Embedding(max_features, embedding_dim, input_length=max_words))\n",
        "model.add(Flatten())\n",
        "model.add(Dense(256, activation='relu'))\n",
        "model.add(Dense(256, activation='tanh'))\n",
        "model.add(Dense(256, activation='relu'))\n",
        "model.add(Dense(256, activation='relu'))\n",
        "model.add(Dense(1, activation='sigmoid'))\n",
        "\n",
        "model.layers[0].set_weights([embedding_matrix])\n",
        "model.layers[0].trainable=False\n",
        "model.summary()\n",
        "\n",
        "model.compile(optimizer='nadam', loss='binary_crossentropy', metrics=['acc'])\n",
        "history_5 = model.fit(train_data, train_labels, epochs=100, batch_size=124, validation_split=0.3)"
      ],
      "metadata": {
        "colab": {
          "base_uri": "https://localhost:8080/"
        },
        "id": "xp9YgmfMBXVm",
        "outputId": "4d0befd3-b20e-4f3e-9615-3e1a8807fbe2"
      },
      "execution_count": null,
      "outputs": [
        {
          "output_type": "stream",
          "name": "stdout",
          "text": [
            "Model: \"sequential_43\"\n",
            "_________________________________________________________________\n",
            " Layer (type)                Output Shape              Param #   \n",
            "=================================================================\n",
            " embedding_43 (Embedding)    (None, 50, 50)            50000     \n",
            "                                                                 \n",
            " flatten_24 (Flatten)        (None, 2500)              0         \n",
            "                                                                 \n",
            " dense_120 (Dense)           (None, 256)               640256    \n",
            "                                                                 \n",
            " dense_121 (Dense)           (None, 256)               65792     \n",
            "                                                                 \n",
            " dense_122 (Dense)           (None, 256)               65792     \n",
            "                                                                 \n",
            " dense_123 (Dense)           (None, 256)               65792     \n",
            "                                                                 \n",
            " dense_124 (Dense)           (None, 1)                 257       \n",
            "                                                                 \n",
            "=================================================================\n",
            "Total params: 887,889\n",
            "Trainable params: 837,889\n",
            "Non-trainable params: 50,000\n",
            "_________________________________________________________________\n",
            "Epoch 1/100\n",
            "46/46 [==============================] - 2s 9ms/step - loss: 0.6095 - acc: 0.7132 - val_loss: 1.4805 - val_acc: 0.0000e+00\n",
            "Epoch 2/100\n",
            "46/46 [==============================] - 0s 6ms/step - loss: 0.5992 - acc: 0.7132 - val_loss: 1.2006 - val_acc: 0.0000e+00\n",
            "Epoch 3/100\n",
            "46/46 [==============================] - 0s 6ms/step - loss: 0.5914 - acc: 0.7141 - val_loss: 1.1058 - val_acc: 0.0000e+00\n",
            "Epoch 4/100\n",
            "46/46 [==============================] - 0s 6ms/step - loss: 0.5815 - acc: 0.7154 - val_loss: 1.0202 - val_acc: 0.0679\n",
            "Epoch 5/100\n",
            "46/46 [==============================] - 0s 7ms/step - loss: 0.5642 - acc: 0.7252 - val_loss: 0.9693 - val_acc: 0.2571\n",
            "Epoch 6/100\n",
            "46/46 [==============================] - 0s 7ms/step - loss: 0.5509 - acc: 0.7323 - val_loss: 1.7266 - val_acc: 0.0042\n",
            "Epoch 7/100\n",
            "46/46 [==============================] - 0s 6ms/step - loss: 0.5263 - acc: 0.7477 - val_loss: 1.3064 - val_acc: 0.1258\n",
            "Epoch 8/100\n",
            "46/46 [==============================] - 0s 6ms/step - loss: 0.5127 - acc: 0.7548 - val_loss: 1.4074 - val_acc: 0.1217\n",
            "Epoch 9/100\n",
            "46/46 [==============================] - 0s 6ms/step - loss: 0.4791 - acc: 0.7734 - val_loss: 1.7861 - val_acc: 0.0975\n",
            "Epoch 10/100\n",
            "46/46 [==============================] - 0s 6ms/step - loss: 0.4533 - acc: 0.7857 - val_loss: 1.9490 - val_acc: 0.0858\n",
            "Epoch 11/100\n",
            "46/46 [==============================] - 0s 6ms/step - loss: 0.4350 - acc: 0.7964 - val_loss: 2.4911 - val_acc: 0.0562\n",
            "Epoch 12/100\n",
            "46/46 [==============================] - 0s 6ms/step - loss: 0.4264 - acc: 0.8016 - val_loss: 2.4852 - val_acc: 0.0904\n",
            "Epoch 13/100\n",
            "46/46 [==============================] - 0s 7ms/step - loss: 0.4098 - acc: 0.8071 - val_loss: 2.3194 - val_acc: 0.1083\n",
            "Epoch 14/100\n",
            "46/46 [==============================] - 0s 6ms/step - loss: 0.3846 - acc: 0.8193 - val_loss: 2.9680 - val_acc: 0.0921\n",
            "Epoch 15/100\n",
            "46/46 [==============================] - 0s 6ms/step - loss: 0.3837 - acc: 0.8200 - val_loss: 3.0031 - val_acc: 0.1000\n",
            "Epoch 16/100\n",
            "46/46 [==============================] - 0s 6ms/step - loss: 0.3715 - acc: 0.8220 - val_loss: 2.1540 - val_acc: 0.2217\n",
            "Epoch 17/100\n",
            "46/46 [==============================] - 0s 6ms/step - loss: 0.3526 - acc: 0.8320 - val_loss: 3.1535 - val_acc: 0.1329\n",
            "Epoch 18/100\n",
            "46/46 [==============================] - 0s 6ms/step - loss: 0.3531 - acc: 0.8330 - val_loss: 3.0800 - val_acc: 0.1325\n",
            "Epoch 19/100\n",
            "46/46 [==============================] - 0s 6ms/step - loss: 0.3423 - acc: 0.8377 - val_loss: 3.6624 - val_acc: 0.1308\n",
            "Epoch 20/100\n",
            "46/46 [==============================] - 0s 6ms/step - loss: 0.3584 - acc: 0.8298 - val_loss: 2.6297 - val_acc: 0.1550\n",
            "Epoch 21/100\n",
            "46/46 [==============================] - 0s 6ms/step - loss: 0.3313 - acc: 0.8427 - val_loss: 3.4248 - val_acc: 0.1429\n",
            "Epoch 22/100\n",
            "46/46 [==============================] - 0s 6ms/step - loss: 0.3368 - acc: 0.8391 - val_loss: 2.4015 - val_acc: 0.2217\n",
            "Epoch 23/100\n",
            "46/46 [==============================] - 0s 6ms/step - loss: 0.3360 - acc: 0.8411 - val_loss: 3.2082 - val_acc: 0.1238\n",
            "Epoch 24/100\n",
            "46/46 [==============================] - 0s 6ms/step - loss: 0.3137 - acc: 0.8484 - val_loss: 3.7464 - val_acc: 0.1663\n",
            "Epoch 25/100\n",
            "46/46 [==============================] - 0s 6ms/step - loss: 0.3255 - acc: 0.8443 - val_loss: 3.5922 - val_acc: 0.1538\n",
            "Epoch 26/100\n",
            "46/46 [==============================] - 0s 6ms/step - loss: 0.3184 - acc: 0.8439 - val_loss: 3.9940 - val_acc: 0.1363\n",
            "Epoch 27/100\n",
            "46/46 [==============================] - 0s 6ms/step - loss: 0.3091 - acc: 0.8482 - val_loss: 3.8740 - val_acc: 0.1650\n",
            "Epoch 28/100\n",
            "46/46 [==============================] - 0s 6ms/step - loss: 0.3140 - acc: 0.8459 - val_loss: 4.2315 - val_acc: 0.1346\n",
            "Epoch 29/100\n",
            "46/46 [==============================] - 0s 6ms/step - loss: 0.3031 - acc: 0.8509 - val_loss: 4.7512 - val_acc: 0.1358\n",
            "Epoch 30/100\n",
            "46/46 [==============================] - 0s 6ms/step - loss: 0.3027 - acc: 0.8500 - val_loss: 4.4423 - val_acc: 0.1396\n",
            "Epoch 31/100\n",
            "46/46 [==============================] - 0s 6ms/step - loss: 0.3063 - acc: 0.8498 - val_loss: 5.1969 - val_acc: 0.1213\n",
            "Epoch 32/100\n",
            "46/46 [==============================] - 0s 6ms/step - loss: 0.3217 - acc: 0.8450 - val_loss: 3.5048 - val_acc: 0.2096\n",
            "Epoch 33/100\n",
            "46/46 [==============================] - 0s 6ms/step - loss: 0.3030 - acc: 0.8502 - val_loss: 4.9782 - val_acc: 0.1458\n",
            "Epoch 34/100\n",
            "46/46 [==============================] - 0s 7ms/step - loss: 0.3065 - acc: 0.8518 - val_loss: 4.9415 - val_acc: 0.1533\n",
            "Epoch 35/100\n",
            "46/46 [==============================] - 0s 6ms/step - loss: 0.2896 - acc: 0.8579 - val_loss: 4.2149 - val_acc: 0.1983\n",
            "Epoch 36/100\n",
            "46/46 [==============================] - 0s 6ms/step - loss: 0.3061 - acc: 0.8520 - val_loss: 4.4570 - val_acc: 0.1467\n",
            "Epoch 37/100\n",
            "46/46 [==============================] - 0s 6ms/step - loss: 0.2950 - acc: 0.8564 - val_loss: 4.5938 - val_acc: 0.1775\n",
            "Epoch 38/100\n",
            "46/46 [==============================] - 0s 6ms/step - loss: 0.2884 - acc: 0.8579 - val_loss: 4.7361 - val_acc: 0.1908\n",
            "Epoch 39/100\n",
            "46/46 [==============================] - 0s 7ms/step - loss: 0.2881 - acc: 0.8589 - val_loss: 5.3409 - val_acc: 0.1929\n",
            "Epoch 40/100\n",
            "46/46 [==============================] - 0s 6ms/step - loss: 0.3077 - acc: 0.8534 - val_loss: 4.3628 - val_acc: 0.1775\n",
            "Epoch 41/100\n",
            "46/46 [==============================] - 0s 6ms/step - loss: 0.3080 - acc: 0.8520 - val_loss: 5.2358 - val_acc: 0.1500\n",
            "Epoch 42/100\n",
            "46/46 [==============================] - 0s 6ms/step - loss: 0.2920 - acc: 0.8577 - val_loss: 5.0182 - val_acc: 0.1683\n",
            "Epoch 43/100\n",
            "46/46 [==============================] - 0s 6ms/step - loss: 0.2914 - acc: 0.8595 - val_loss: 5.4215 - val_acc: 0.1654\n",
            "Epoch 44/100\n",
            "46/46 [==============================] - 0s 6ms/step - loss: 0.2956 - acc: 0.8570 - val_loss: 4.8816 - val_acc: 0.1800\n",
            "Epoch 45/100\n",
            "46/46 [==============================] - 0s 6ms/step - loss: 0.2919 - acc: 0.8577 - val_loss: 4.8784 - val_acc: 0.1671\n",
            "Epoch 46/100\n",
            "46/46 [==============================] - 0s 6ms/step - loss: 0.2938 - acc: 0.8587 - val_loss: 3.9518 - val_acc: 0.2142\n",
            "Epoch 47/100\n",
            "46/46 [==============================] - 0s 6ms/step - loss: 0.2954 - acc: 0.8564 - val_loss: 5.3818 - val_acc: 0.1650\n",
            "Epoch 48/100\n",
            "46/46 [==============================] - 0s 7ms/step - loss: 0.2812 - acc: 0.8625 - val_loss: 5.5664 - val_acc: 0.1483\n",
            "Epoch 49/100\n",
            "46/46 [==============================] - 0s 6ms/step - loss: 0.2761 - acc: 0.8643 - val_loss: 6.2311 - val_acc: 0.1437\n",
            "Epoch 50/100\n",
            "46/46 [==============================] - 0s 6ms/step - loss: 0.2728 - acc: 0.8646 - val_loss: 7.0167 - val_acc: 0.1475\n",
            "Epoch 51/100\n",
            "46/46 [==============================] - 0s 6ms/step - loss: 0.2723 - acc: 0.8654 - val_loss: 6.9310 - val_acc: 0.1508\n",
            "Epoch 52/100\n",
            "46/46 [==============================] - 0s 7ms/step - loss: 0.2712 - acc: 0.8666 - val_loss: 6.7731 - val_acc: 0.1696\n",
            "Epoch 53/100\n",
            "46/46 [==============================] - 0s 6ms/step - loss: 0.2705 - acc: 0.8655 - val_loss: 7.3406 - val_acc: 0.1517\n",
            "Epoch 54/100\n",
            "46/46 [==============================] - 0s 6ms/step - loss: 0.2705 - acc: 0.8645 - val_loss: 7.4546 - val_acc: 0.1396\n",
            "Epoch 55/100\n",
            "46/46 [==============================] - 0s 6ms/step - loss: 0.2728 - acc: 0.8643 - val_loss: 8.0688 - val_acc: 0.1442\n",
            "Epoch 56/100\n",
            "46/46 [==============================] - 0s 6ms/step - loss: 0.2799 - acc: 0.8627 - val_loss: 6.9123 - val_acc: 0.1458\n",
            "Epoch 57/100\n",
            "46/46 [==============================] - 0s 7ms/step - loss: 0.3098 - acc: 0.8527 - val_loss: 4.8848 - val_acc: 0.1817\n",
            "Epoch 58/100\n",
            "46/46 [==============================] - 0s 6ms/step - loss: 0.2953 - acc: 0.8580 - val_loss: 5.4927 - val_acc: 0.1600\n",
            "Epoch 59/100\n",
            "46/46 [==============================] - 0s 6ms/step - loss: 0.2875 - acc: 0.8623 - val_loss: 4.7954 - val_acc: 0.1971\n",
            "Epoch 60/100\n",
            "46/46 [==============================] - 0s 6ms/step - loss: 0.2808 - acc: 0.8634 - val_loss: 5.3432 - val_acc: 0.1671\n",
            "Epoch 61/100\n",
            "46/46 [==============================] - 0s 6ms/step - loss: 0.2757 - acc: 0.8636 - val_loss: 5.5687 - val_acc: 0.1737\n",
            "Epoch 62/100\n",
            "46/46 [==============================] - 0s 7ms/step - loss: 0.2758 - acc: 0.8643 - val_loss: 6.7533 - val_acc: 0.1258\n",
            "Epoch 63/100\n",
            "46/46 [==============================] - 0s 6ms/step - loss: 0.2948 - acc: 0.8593 - val_loss: 4.5162 - val_acc: 0.1325\n",
            "Epoch 64/100\n",
            "46/46 [==============================] - 0s 6ms/step - loss: 0.2916 - acc: 0.8584 - val_loss: 6.5692 - val_acc: 0.1129\n",
            "Epoch 65/100\n",
            "46/46 [==============================] - 0s 6ms/step - loss: 0.2862 - acc: 0.8618 - val_loss: 3.6307 - val_acc: 0.2013\n",
            "Epoch 66/100\n",
            "46/46 [==============================] - 0s 7ms/step - loss: 0.2767 - acc: 0.8620 - val_loss: 4.5059 - val_acc: 0.1783\n",
            "Epoch 67/100\n",
            "46/46 [==============================] - 0s 6ms/step - loss: 0.2721 - acc: 0.8662 - val_loss: 5.3358 - val_acc: 0.1875\n",
            "Epoch 68/100\n",
            "46/46 [==============================] - 0s 6ms/step - loss: 0.2677 - acc: 0.8687 - val_loss: 5.6931 - val_acc: 0.1700\n",
            "Epoch 69/100\n",
            "46/46 [==============================] - 0s 6ms/step - loss: 0.2664 - acc: 0.8680 - val_loss: 5.8512 - val_acc: 0.1704\n",
            "Epoch 70/100\n",
            "46/46 [==============================] - 0s 6ms/step - loss: 0.2642 - acc: 0.8659 - val_loss: 5.9518 - val_acc: 0.1746\n",
            "Epoch 71/100\n",
            "46/46 [==============================] - 0s 6ms/step - loss: 0.2642 - acc: 0.8670 - val_loss: 6.9020 - val_acc: 0.1567\n",
            "Epoch 72/100\n",
            "46/46 [==============================] - 0s 6ms/step - loss: 0.2641 - acc: 0.8686 - val_loss: 6.1982 - val_acc: 0.1704\n",
            "Epoch 73/100\n",
            "46/46 [==============================] - 0s 6ms/step - loss: 0.2638 - acc: 0.8700 - val_loss: 6.1931 - val_acc: 0.1612\n",
            "Epoch 74/100\n",
            "46/46 [==============================] - 0s 6ms/step - loss: 0.2664 - acc: 0.8671 - val_loss: 5.9778 - val_acc: 0.1808\n",
            "Epoch 75/100\n",
            "46/46 [==============================] - 0s 6ms/step - loss: 0.2657 - acc: 0.8680 - val_loss: 7.5336 - val_acc: 0.1600\n",
            "Epoch 76/100\n",
            "46/46 [==============================] - 0s 6ms/step - loss: 0.2681 - acc: 0.8677 - val_loss: 6.9917 - val_acc: 0.1688\n",
            "Epoch 77/100\n",
            "46/46 [==============================] - 0s 7ms/step - loss: 0.2656 - acc: 0.8668 - val_loss: 7.1125 - val_acc: 0.1646\n",
            "Epoch 78/100\n",
            "46/46 [==============================] - 0s 6ms/step - loss: 0.2807 - acc: 0.8645 - val_loss: 4.8627 - val_acc: 0.1787\n",
            "Epoch 79/100\n",
            "46/46 [==============================] - 0s 6ms/step - loss: 0.2927 - acc: 0.8584 - val_loss: 6.2184 - val_acc: 0.1483\n",
            "Epoch 80/100\n",
            "46/46 [==============================] - 0s 6ms/step - loss: 0.2868 - acc: 0.8616 - val_loss: 4.3779 - val_acc: 0.2975\n",
            "Epoch 81/100\n",
            "46/46 [==============================] - 0s 7ms/step - loss: 0.3104 - acc: 0.8552 - val_loss: 4.5747 - val_acc: 0.1829\n",
            "Epoch 82/100\n",
            "46/46 [==============================] - 0s 6ms/step - loss: 0.2888 - acc: 0.8612 - val_loss: 4.5787 - val_acc: 0.1813\n",
            "Epoch 83/100\n",
            "46/46 [==============================] - 0s 6ms/step - loss: 0.2749 - acc: 0.8630 - val_loss: 5.6818 - val_acc: 0.1737\n",
            "Epoch 84/100\n",
            "46/46 [==============================] - 0s 7ms/step - loss: 0.2678 - acc: 0.8673 - val_loss: 6.9389 - val_acc: 0.1462\n",
            "Epoch 85/100\n",
            "46/46 [==============================] - 0s 6ms/step - loss: 0.2732 - acc: 0.8671 - val_loss: 6.4065 - val_acc: 0.1517\n",
            "Epoch 86/100\n",
            "46/46 [==============================] - 0s 6ms/step - loss: 0.2673 - acc: 0.8670 - val_loss: 7.2563 - val_acc: 0.1571\n",
            "Epoch 87/100\n",
            "46/46 [==============================] - 0s 6ms/step - loss: 0.2629 - acc: 0.8684 - val_loss: 7.2141 - val_acc: 0.1592\n",
            "Epoch 88/100\n",
            "46/46 [==============================] - 0s 6ms/step - loss: 0.2620 - acc: 0.8693 - val_loss: 7.3335 - val_acc: 0.1650\n",
            "Epoch 89/100\n",
            "46/46 [==============================] - 0s 6ms/step - loss: 0.2607 - acc: 0.8687 - val_loss: 8.1346 - val_acc: 0.1575\n",
            "Epoch 90/100\n",
            "46/46 [==============================] - 0s 6ms/step - loss: 0.2612 - acc: 0.8693 - val_loss: 7.8198 - val_acc: 0.1625\n",
            "Epoch 91/100\n",
            "46/46 [==============================] - 0s 7ms/step - loss: 0.2619 - acc: 0.8677 - val_loss: 7.7769 - val_acc: 0.1621\n",
            "Epoch 92/100\n",
            "46/46 [==============================] - 0s 6ms/step - loss: 0.2631 - acc: 0.8693 - val_loss: 7.9874 - val_acc: 0.1612\n",
            "Epoch 93/100\n",
            "46/46 [==============================] - 0s 6ms/step - loss: 0.2609 - acc: 0.8702 - val_loss: 8.2940 - val_acc: 0.1617\n",
            "Epoch 94/100\n",
            "46/46 [==============================] - 0s 7ms/step - loss: 0.2598 - acc: 0.8695 - val_loss: 8.2042 - val_acc: 0.1617\n",
            "Epoch 95/100\n",
            "46/46 [==============================] - 0s 6ms/step - loss: 0.2610 - acc: 0.8677 - val_loss: 8.2351 - val_acc: 0.1550\n",
            "Epoch 96/100\n",
            "46/46 [==============================] - 0s 6ms/step - loss: 0.2626 - acc: 0.8695 - val_loss: 9.1346 - val_acc: 0.1550\n",
            "Epoch 97/100\n",
            "46/46 [==============================] - 0s 6ms/step - loss: 0.2619 - acc: 0.8691 - val_loss: 8.1689 - val_acc: 0.1637\n",
            "Epoch 98/100\n",
            "46/46 [==============================] - 0s 7ms/step - loss: 0.2631 - acc: 0.8689 - val_loss: 8.0910 - val_acc: 0.1408\n",
            "Epoch 99/100\n",
            "46/46 [==============================] - 0s 6ms/step - loss: 0.2706 - acc: 0.8671 - val_loss: 7.2366 - val_acc: 0.1733\n",
            "Epoch 100/100\n",
            "46/46 [==============================] - 0s 6ms/step - loss: 0.3004 - acc: 0.8559 - val_loss: 5.3586 - val_acc: 0.1596\n"
          ]
        }
      ]
    },
    {
      "cell_type": "code",
      "source": [],
      "metadata": {
        "id": "PdKUdKtVBszD"
      },
      "execution_count": null,
      "outputs": []
    },
    {
      "cell_type": "markdown",
      "source": [
        "## Analiza tweetów\n",
        "\n",
        "Źródło: https://www.kaggle.com/datasets/mrmorj/us-politicians-twitter-dataset/code"
      ],
      "metadata": {
        "id": "FCeq5NIac_7q"
      }
    },
    {
      "cell_type": "code",
      "source": [
        "! pip install kaggle"
      ],
      "metadata": {
        "colab": {
          "base_uri": "https://localhost:8080/"
        },
        "id": "dwIvEZnTdSTd",
        "outputId": "7eafb5d6-8c52-4c57-ec72-a5d1a22844e4"
      },
      "execution_count": null,
      "outputs": [
        {
          "output_type": "stream",
          "name": "stdout",
          "text": [
            "Looking in indexes: https://pypi.org/simple, https://us-python.pkg.dev/colab-wheels/public/simple/\n",
            "Requirement already satisfied: kaggle in /usr/local/lib/python3.7/dist-packages (1.5.12)\n",
            "Requirement already satisfied: requests in /usr/local/lib/python3.7/dist-packages (from kaggle) (2.23.0)\n",
            "Requirement already satisfied: python-dateutil in /usr/local/lib/python3.7/dist-packages (from kaggle) (2.8.2)\n",
            "Requirement already satisfied: tqdm in /usr/local/lib/python3.7/dist-packages (from kaggle) (4.64.0)\n",
            "Requirement already satisfied: python-slugify in /usr/local/lib/python3.7/dist-packages (from kaggle) (6.1.2)\n",
            "Requirement already satisfied: urllib3 in /usr/local/lib/python3.7/dist-packages (from kaggle) (1.24.3)\n",
            "Requirement already satisfied: certifi in /usr/local/lib/python3.7/dist-packages (from kaggle) (2022.6.15)\n",
            "Requirement already satisfied: six>=1.10 in /usr/local/lib/python3.7/dist-packages (from kaggle) (1.15.0)\n",
            "Requirement already satisfied: text-unidecode>=1.3 in /usr/local/lib/python3.7/dist-packages (from python-slugify->kaggle) (1.3)\n",
            "Requirement already satisfied: idna<3,>=2.5 in /usr/local/lib/python3.7/dist-packages (from requests->kaggle) (2.10)\n",
            "Requirement already satisfied: chardet<4,>=3.0.2 in /usr/local/lib/python3.7/dist-packages (from requests->kaggle) (3.0.4)\n"
          ]
        }
      ]
    },
    {
      "cell_type": "code",
      "source": [
        "! mkdir ~/.kaggle"
      ],
      "metadata": {
        "colab": {
          "base_uri": "https://localhost:8080/"
        },
        "id": "I4QaW0h4duPP",
        "outputId": "e51f59a8-a255-4b0d-b2d0-b7105cf6ea95"
      },
      "execution_count": null,
      "outputs": [
        {
          "output_type": "stream",
          "name": "stdout",
          "text": [
            "mkdir: cannot create directory ‘/root/.kaggle’: File exists\n"
          ]
        }
      ]
    },
    {
      "cell_type": "code",
      "source": [
        "! cp kaggle.json ~/.kaggle/"
      ],
      "metadata": {
        "id": "9QJoC7qSeq9y"
      },
      "execution_count": null,
      "outputs": []
    },
    {
      "cell_type": "code",
      "source": [
        "! chmod 600 ~/.kaggle/kaggle.json"
      ],
      "metadata": {
        "id": "JW1PWH6cfR2E"
      },
      "execution_count": null,
      "outputs": []
    },
    {
      "cell_type": "code",
      "source": [
        "! kaggle datasets download kaushiksuresh147/political-tweets"
      ],
      "metadata": {
        "colab": {
          "base_uri": "https://localhost:8080/"
        },
        "id": "IiwZ6SfnfX_g",
        "outputId": "f4ca9c96-00d3-4883-fea9-bbcffc102ceb"
      },
      "execution_count": null,
      "outputs": [
        {
          "output_type": "stream",
          "name": "stdout",
          "text": [
            "Downloading political-tweets.zip to /content\n",
            " 45% 17.0M/37.5M [00:00<00:00, 64.7MB/s]\n",
            "100% 37.5M/37.5M [00:00<00:00, 121MB/s] \n"
          ]
        }
      ]
    },
    {
      "cell_type": "code",
      "source": [
        "! unzip political-tweets"
      ],
      "metadata": {
        "colab": {
          "base_uri": "https://localhost:8080/"
        },
        "id": "YTMqSJSZfeGr",
        "outputId": "8d3f5112-a38b-41d7-a49c-8bb9ea4304d6"
      },
      "execution_count": null,
      "outputs": [
        {
          "output_type": "stream",
          "name": "stdout",
          "text": [
            "Archive:  political-tweets.zip\n",
            "  inflating: Political_tweets.csv    \n"
          ]
        }
      ]
    },
    {
      "cell_type": "code",
      "source": [
        "dataset = pd.read_csv(\"/content/Political_tweets.csv\")"
      ],
      "metadata": {
        "colab": {
          "base_uri": "https://localhost:8080/"
        },
        "id": "1nbAsrPqfvTS",
        "outputId": "533c56cf-de81-4d75-efc0-7d50925a1611"
      },
      "execution_count": null,
      "outputs": [
        {
          "output_type": "stream",
          "name": "stderr",
          "text": [
            "/usr/local/lib/python3.7/dist-packages/IPython/core/interactiveshell.py:3326: DtypeWarning: Columns (12) have mixed types.Specify dtype option on import or set low_memory=False.\n",
            "  exec(code_obj, self.user_global_ns, self.user_ns)\n"
          ]
        }
      ]
    },
    {
      "cell_type": "code",
      "source": [
        "dataset.head()"
      ],
      "metadata": {
        "colab": {
          "base_uri": "https://localhost:8080/",
          "height": 548
        },
        "id": "iI5sZeMogHRy",
        "outputId": "41d50ce5-d23e-4fde-e3f0-ac0862c23b6d"
      },
      "execution_count": null,
      "outputs": [
        {
          "output_type": "execute_result",
          "data": {
            "text/plain": [
              "           user_name   user_location  \\\n",
              "0       CPA Jim 2021             NaN   \n",
              "1        Joint Minds             NaN   \n",
              "2            Sociafy             USA   \n",
              "3  🟣 Discussions.app  United States    \n",
              "4        Ground News  Kitchener, ON    \n",
              "\n",
              "                                    user_description         user_created  \\\n",
              "0  Grandparents enslaved by CCP since 1949 were b...  2011-03-17 10:17:36   \n",
              "1                                Joint Minds Podcast  2021-01-23 23:57:27   \n",
              "2  Sociafy is an influencer-based content discove...  2011-09-30 05:59:06   \n",
              "3  Home of Crypto Communities. $ATMOS \\n\\nhttps:/...  2017-02-09 23:15:24   \n",
              "4  The world's first news source comparison platf...  2018-02-08 22:00:16   \n",
              "\n",
              "   user_followers  user_friends  user_favourites  user_verified  \\\n",
              "0           711.0         146.0           1160.0          False   \n",
              "1             3.0           3.0              1.0          False   \n",
              "2         36219.0         181.0            930.0          False   \n",
              "3          2426.0        1104.0           8173.0          False   \n",
              "4         13763.0        1224.0           2033.0          False   \n",
              "\n",
              "                  date                                               text  \\\n",
              "0  2021-07-30 23:57:05  US says seizes tanker used to evade North Kore...   \n",
              "1  2021-07-30 23:53:21  Is America the greatest country? Part 1 drops ...   \n",
              "2  2021-07-30 23:53:03  O’Reilly predicts THIS is What DOOMS Biden’s r...   \n",
              "3  2021-07-30 23:51:00  Corruption in Politics\\n#blog #politics \\nhttp...   \n",
              "4  2021-07-30 23:50:53  @kylegriffin1 Are you getting all the info on ...   \n",
              "\n",
              "                                            hashtags              source  \\\n",
              "0                             ['politics', 'feedly']     Twitter Web App   \n",
              "1  ['america', 'jointminds', 'politics', 'democra...  Twitter for iPhone   \n",
              "2                             ['politics', 'videos']              Buffer   \n",
              "3                               ['blog', 'politics']           TweetDeck   \n",
              "4  ['EvictionMoratorium', 'Congress', 'NancyPelos...          GroundNews   \n",
              "\n",
              "  is_retweet  \n",
              "0      False  \n",
              "1      False  \n",
              "2      False  \n",
              "3      False  \n",
              "4      False  "
            ],
            "text/html": [
              "\n",
              "  <div id=\"df-5ebc9cf6-1372-4a2e-bbef-ccdb8677952f\">\n",
              "    <div class=\"colab-df-container\">\n",
              "      <div>\n",
              "<style scoped>\n",
              "    .dataframe tbody tr th:only-of-type {\n",
              "        vertical-align: middle;\n",
              "    }\n",
              "\n",
              "    .dataframe tbody tr th {\n",
              "        vertical-align: top;\n",
              "    }\n",
              "\n",
              "    .dataframe thead th {\n",
              "        text-align: right;\n",
              "    }\n",
              "</style>\n",
              "<table border=\"1\" class=\"dataframe\">\n",
              "  <thead>\n",
              "    <tr style=\"text-align: right;\">\n",
              "      <th></th>\n",
              "      <th>user_name</th>\n",
              "      <th>user_location</th>\n",
              "      <th>user_description</th>\n",
              "      <th>user_created</th>\n",
              "      <th>user_followers</th>\n",
              "      <th>user_friends</th>\n",
              "      <th>user_favourites</th>\n",
              "      <th>user_verified</th>\n",
              "      <th>date</th>\n",
              "      <th>text</th>\n",
              "      <th>hashtags</th>\n",
              "      <th>source</th>\n",
              "      <th>is_retweet</th>\n",
              "    </tr>\n",
              "  </thead>\n",
              "  <tbody>\n",
              "    <tr>\n",
              "      <th>0</th>\n",
              "      <td>CPA Jim 2021</td>\n",
              "      <td>NaN</td>\n",
              "      <td>Grandparents enslaved by CCP since 1949 were b...</td>\n",
              "      <td>2011-03-17 10:17:36</td>\n",
              "      <td>711.0</td>\n",
              "      <td>146.0</td>\n",
              "      <td>1160.0</td>\n",
              "      <td>False</td>\n",
              "      <td>2021-07-30 23:57:05</td>\n",
              "      <td>US says seizes tanker used to evade North Kore...</td>\n",
              "      <td>['politics', 'feedly']</td>\n",
              "      <td>Twitter Web App</td>\n",
              "      <td>False</td>\n",
              "    </tr>\n",
              "    <tr>\n",
              "      <th>1</th>\n",
              "      <td>Joint Minds</td>\n",
              "      <td>NaN</td>\n",
              "      <td>Joint Minds Podcast</td>\n",
              "      <td>2021-01-23 23:57:27</td>\n",
              "      <td>3.0</td>\n",
              "      <td>3.0</td>\n",
              "      <td>1.0</td>\n",
              "      <td>False</td>\n",
              "      <td>2021-07-30 23:53:21</td>\n",
              "      <td>Is America the greatest country? Part 1 drops ...</td>\n",
              "      <td>['america', 'jointminds', 'politics', 'democra...</td>\n",
              "      <td>Twitter for iPhone</td>\n",
              "      <td>False</td>\n",
              "    </tr>\n",
              "    <tr>\n",
              "      <th>2</th>\n",
              "      <td>Sociafy</td>\n",
              "      <td>USA</td>\n",
              "      <td>Sociafy is an influencer-based content discove...</td>\n",
              "      <td>2011-09-30 05:59:06</td>\n",
              "      <td>36219.0</td>\n",
              "      <td>181.0</td>\n",
              "      <td>930.0</td>\n",
              "      <td>False</td>\n",
              "      <td>2021-07-30 23:53:03</td>\n",
              "      <td>O’Reilly predicts THIS is What DOOMS Biden’s r...</td>\n",
              "      <td>['politics', 'videos']</td>\n",
              "      <td>Buffer</td>\n",
              "      <td>False</td>\n",
              "    </tr>\n",
              "    <tr>\n",
              "      <th>3</th>\n",
              "      <td>🟣 Discussions.app</td>\n",
              "      <td>United States</td>\n",
              "      <td>Home of Crypto Communities. $ATMOS \\n\\nhttps:/...</td>\n",
              "      <td>2017-02-09 23:15:24</td>\n",
              "      <td>2426.0</td>\n",
              "      <td>1104.0</td>\n",
              "      <td>8173.0</td>\n",
              "      <td>False</td>\n",
              "      <td>2021-07-30 23:51:00</td>\n",
              "      <td>Corruption in Politics\\n#blog #politics \\nhttp...</td>\n",
              "      <td>['blog', 'politics']</td>\n",
              "      <td>TweetDeck</td>\n",
              "      <td>False</td>\n",
              "    </tr>\n",
              "    <tr>\n",
              "      <th>4</th>\n",
              "      <td>Ground News</td>\n",
              "      <td>Kitchener, ON</td>\n",
              "      <td>The world's first news source comparison platf...</td>\n",
              "      <td>2018-02-08 22:00:16</td>\n",
              "      <td>13763.0</td>\n",
              "      <td>1224.0</td>\n",
              "      <td>2033.0</td>\n",
              "      <td>False</td>\n",
              "      <td>2021-07-30 23:50:53</td>\n",
              "      <td>@kylegriffin1 Are you getting all the info on ...</td>\n",
              "      <td>['EvictionMoratorium', 'Congress', 'NancyPelos...</td>\n",
              "      <td>GroundNews</td>\n",
              "      <td>False</td>\n",
              "    </tr>\n",
              "  </tbody>\n",
              "</table>\n",
              "</div>\n",
              "      <button class=\"colab-df-convert\" onclick=\"convertToInteractive('df-5ebc9cf6-1372-4a2e-bbef-ccdb8677952f')\"\n",
              "              title=\"Convert this dataframe to an interactive table.\"\n",
              "              style=\"display:none;\">\n",
              "        \n",
              "  <svg xmlns=\"http://www.w3.org/2000/svg\" height=\"24px\"viewBox=\"0 0 24 24\"\n",
              "       width=\"24px\">\n",
              "    <path d=\"M0 0h24v24H0V0z\" fill=\"none\"/>\n",
              "    <path d=\"M18.56 5.44l.94 2.06.94-2.06 2.06-.94-2.06-.94-.94-2.06-.94 2.06-2.06.94zm-11 1L8.5 8.5l.94-2.06 2.06-.94-2.06-.94L8.5 2.5l-.94 2.06-2.06.94zm10 10l.94 2.06.94-2.06 2.06-.94-2.06-.94-.94-2.06-.94 2.06-2.06.94z\"/><path d=\"M17.41 7.96l-1.37-1.37c-.4-.4-.92-.59-1.43-.59-.52 0-1.04.2-1.43.59L10.3 9.45l-7.72 7.72c-.78.78-.78 2.05 0 2.83L4 21.41c.39.39.9.59 1.41.59.51 0 1.02-.2 1.41-.59l7.78-7.78 2.81-2.81c.8-.78.8-2.07 0-2.86zM5.41 20L4 18.59l7.72-7.72 1.47 1.35L5.41 20z\"/>\n",
              "  </svg>\n",
              "      </button>\n",
              "      \n",
              "  <style>\n",
              "    .colab-df-container {\n",
              "      display:flex;\n",
              "      flex-wrap:wrap;\n",
              "      gap: 12px;\n",
              "    }\n",
              "\n",
              "    .colab-df-convert {\n",
              "      background-color: #E8F0FE;\n",
              "      border: none;\n",
              "      border-radius: 50%;\n",
              "      cursor: pointer;\n",
              "      display: none;\n",
              "      fill: #1967D2;\n",
              "      height: 32px;\n",
              "      padding: 0 0 0 0;\n",
              "      width: 32px;\n",
              "    }\n",
              "\n",
              "    .colab-df-convert:hover {\n",
              "      background-color: #E2EBFA;\n",
              "      box-shadow: 0px 1px 2px rgba(60, 64, 67, 0.3), 0px 1px 3px 1px rgba(60, 64, 67, 0.15);\n",
              "      fill: #174EA6;\n",
              "    }\n",
              "\n",
              "    [theme=dark] .colab-df-convert {\n",
              "      background-color: #3B4455;\n",
              "      fill: #D2E3FC;\n",
              "    }\n",
              "\n",
              "    [theme=dark] .colab-df-convert:hover {\n",
              "      background-color: #434B5C;\n",
              "      box-shadow: 0px 1px 3px 1px rgba(0, 0, 0, 0.15);\n",
              "      filter: drop-shadow(0px 1px 2px rgba(0, 0, 0, 0.3));\n",
              "      fill: #FFFFFF;\n",
              "    }\n",
              "  </style>\n",
              "\n",
              "      <script>\n",
              "        const buttonEl =\n",
              "          document.querySelector('#df-5ebc9cf6-1372-4a2e-bbef-ccdb8677952f button.colab-df-convert');\n",
              "        buttonEl.style.display =\n",
              "          google.colab.kernel.accessAllowed ? 'block' : 'none';\n",
              "\n",
              "        async function convertToInteractive(key) {\n",
              "          const element = document.querySelector('#df-5ebc9cf6-1372-4a2e-bbef-ccdb8677952f');\n",
              "          const dataTable =\n",
              "            await google.colab.kernel.invokeFunction('convertToInteractive',\n",
              "                                                     [key], {});\n",
              "          if (!dataTable) return;\n",
              "\n",
              "          const docLinkHtml = 'Like what you see? Visit the ' +\n",
              "            '<a target=\"_blank\" href=https://colab.research.google.com/notebooks/data_table.ipynb>data table notebook</a>'\n",
              "            + ' to learn more about interactive tables.';\n",
              "          element.innerHTML = '';\n",
              "          dataTable['output_type'] = 'display_data';\n",
              "          await google.colab.output.renderOutput(dataTable, element);\n",
              "          const docLink = document.createElement('div');\n",
              "          docLink.innerHTML = docLinkHtml;\n",
              "          element.appendChild(docLink);\n",
              "        }\n",
              "      </script>\n",
              "    </div>\n",
              "  </div>\n",
              "  "
            ]
          },
          "metadata": {},
          "execution_count": 417
        }
      ]
    },
    {
      "cell_type": "code",
      "source": [
        "test_tweets = dataset['text'].tolist()"
      ],
      "metadata": {
        "id": "zWRf5cdrgZBs"
      },
      "execution_count": null,
      "outputs": []
    },
    {
      "cell_type": "code",
      "source": [
        "test_tweets[:5]"
      ],
      "metadata": {
        "colab": {
          "base_uri": "https://localhost:8080/"
        },
        "id": "IaRd63P2jxgU",
        "outputId": "aca129d5-c2aa-45b7-aa5c-33dad4001d39"
      },
      "execution_count": null,
      "outputs": [
        {
          "output_type": "execute_result",
          "data": {
            "text/plain": [
              "['US says seizes tanker used to evade North Korea sanctions https://t.co/ABaaAcIUnr #politics #feedly',\n",
              " 'Is America the greatest country? Part 1 drops 8/3 @ 10 am PST. Link:  https://t.co/jkXYrAOSuD\\n#america #jointminds #politics #democracy #communism #capitalism #podcast https://t.co/8sNTqhSPnT',\n",
              " 'O’Reilly predicts THIS is What DOOMS Biden’s reelection chance - via: @glennbeck https://t.co/VHWiJWEK48 #politics #videos https://t.co/A1KLPNWfEU',\n",
              " 'Corruption in Politics\\n#blog #politics \\nhttps://t.co/beV97ub2H2',\n",
              " \"@kylegriffin1 Are you getting all the info on #EvictionMoratorium? If you read Politico , don't miss out on what 19 other sources have to say #Congress #NancyPelosi #Politics #DemocraticParty https://t.co/i3SDI3s3F8\"]"
            ]
          },
          "metadata": {},
          "execution_count": 420
        }
      ]
    },
    {
      "cell_type": "code",
      "source": [
        "test_tweets_norm = [process_tweet(x) for x in test_tweets]\n",
        "test_tweets_norm[:5]"
      ],
      "metadata": {
        "colab": {
          "base_uri": "https://localhost:8080/"
        },
        "id": "p566TPnejyqu",
        "outputId": "303c1e9d-b582-4043-fe1f-cc1f7fcc20ec"
      },
      "execution_count": null,
      "outputs": [
        {
          "output_type": "execute_result",
          "data": {
            "text/plain": [
              "['us says seizes tanker used to evade north korea sanctions  ',\n",
              " 'is america the greatest country? part 1 drops 8/3 @ 10 am pst. link:   america jointminds politics democracy communism capitalism podcast  ',\n",
              " 'o’reilly predicts this is what dooms biden’s reelection chance - via:    ',\n",
              " 'corruption in politics blog politics   ',\n",
              " \"  are you getting all the info on evictionmoratorium? if you read politico , don't miss out on what 19 other sources have to say congress nancypelosi politics democraticparty  \"]"
            ]
          },
          "metadata": {},
          "execution_count": 421
        }
      ]
    },
    {
      "cell_type": "code",
      "source": [
        "test_tweets_vec = vectorizer.transform(test_tweets_norm)\n",
        "test_tweets_pred = clf.predict(test_tweets_vec)"
      ],
      "metadata": {
        "id": "yx4VsL5zkRUl"
      },
      "execution_count": null,
      "outputs": []
    },
    {
      "cell_type": "code",
      "source": [
        "df_test_tweets = pd.DataFrame(\n",
        "    {'Tweets': test_tweets_norm, 'Sentiment':test_tweets_pred.astype(int)}\n",
        ")"
      ],
      "metadata": {
        "id": "QGqsW9ErlQC-"
      },
      "execution_count": null,
      "outputs": []
    },
    {
      "cell_type": "code",
      "source": [
        "df_test_tweets.sample(40)"
      ],
      "metadata": {
        "colab": {
          "base_uri": "https://localhost:8080/"
        },
        "id": "KZ2M1K0DlT4B",
        "outputId": "9e09974f-fee2-4095-e5dc-132f1d413233"
      },
      "execution_count": null,
      "outputs": [
        {
          "output_type": "execute_result",
          "data": {
            "text/plain": [
              "                                                   Tweets  Sentiment\n",
              "223759  in rabi marketing season 2022-23  quantity of ...          1\n",
              "44840   peruvian president reports of agreement on dom...          1\n",
              "76649             scotland sets out £100m hydrogen plan            1\n",
              "238517  shreveport will receive   million for improvem...          1\n",
              "83322     hopefully optimistic! however, this is polit...          0\n",
              "70953   multilingual news service hindi 04 november 21...          1\n",
              "88626   homeserve steams ahead with heat pump drive ne...          1\n",
              "184148  i do not know who needs to hear this but... do...          0\n",
              "210706  i would suck bill clinton’s dick for a klondik...          1\n",
              "84660     apga leads in awka south - anambra election -            1\n",
              "107132                       latest on the debt ceiling            1\n",
              "10558   delhikathug delhities you have been sold!! thi...          0\n",
              "171100  covid safe voting in ludhiana punjab but what ...          0\n",
              "216583  deceit, deception, greed and lies are not part...          0\n",
              "151988  in south cyprus inflation reached to 5.4% in j...          0\n",
              "82573   \"..not those set down in a catalogue. these re...          0\n",
              "228871  ‘antebellum’ and the horrors of history that p...          1\n",
              "34754   artificialintelligence healthcare gdpr opinion...          1\n",
              "29257   china ccp's usual delusion or mythomania. the ...          1\n",
              "66733   of passionate politics – northwest arkansas de...          0\n",
              "131241  via  : defiant maga candidate replaces prohibi...          1\n",
              "171775  via  : chicago cops, firefighters busted for d...          1\n",
              "62         federal eviction moratorium expiring july 31            0\n",
              "219284  easier access to corporate information for inv...          1\n",
              "134278  via  : russia planning false-flag operation to...          1\n",
              "91234   we can’t blame the south alone for anti-tax au...          0\n",
              "114804  illiberal death spiral, conversion therapy, go...          1\n",
              "197863  margaret beckett: first female foreign secreta...          1\n",
              "216879  [ russia ] . thursday, 30 june 2022  35,600 ru...          0\n",
              "207793  ganesh wishes to ys vijayamma bandla .. jana s...          1\n",
              "196202  securing and protecting bosnia amidst russia’s...          1\n",
              "186604  we also discuss the politics of dictionaries. ...          1\n",
              "236764           here's what i am gonna do... politics             0\n",
              "160888  japan, eu arrange additional lng supplies to e...          1\n",
              "11113                             the paradox of wealth            1\n",
              "901     one hour until the locker room goes live! yes ...          1\n",
              "156343  some things in life are more important than po...          1\n",
              "194803  elections chief: people voting by mail are mis...          0\n",
              "219664  nagorno-karabakh: new ceasefire struck but aze...          1\n",
              "148999  jason kenney ready to announce plans at 5pm to...          0"
            ],
            "text/html": [
              "\n",
              "  <div id=\"df-ae3566a4-bad4-4766-8d30-292cb1bd61de\">\n",
              "    <div class=\"colab-df-container\">\n",
              "      <div>\n",
              "<style scoped>\n",
              "    .dataframe tbody tr th:only-of-type {\n",
              "        vertical-align: middle;\n",
              "    }\n",
              "\n",
              "    .dataframe tbody tr th {\n",
              "        vertical-align: top;\n",
              "    }\n",
              "\n",
              "    .dataframe thead th {\n",
              "        text-align: right;\n",
              "    }\n",
              "</style>\n",
              "<table border=\"1\" class=\"dataframe\">\n",
              "  <thead>\n",
              "    <tr style=\"text-align: right;\">\n",
              "      <th></th>\n",
              "      <th>Tweets</th>\n",
              "      <th>Sentiment</th>\n",
              "    </tr>\n",
              "  </thead>\n",
              "  <tbody>\n",
              "    <tr>\n",
              "      <th>223759</th>\n",
              "      <td>in rabi marketing season 2022-23  quantity of ...</td>\n",
              "      <td>1</td>\n",
              "    </tr>\n",
              "    <tr>\n",
              "      <th>44840</th>\n",
              "      <td>peruvian president reports of agreement on dom...</td>\n",
              "      <td>1</td>\n",
              "    </tr>\n",
              "    <tr>\n",
              "      <th>76649</th>\n",
              "      <td>scotland sets out £100m hydrogen plan</td>\n",
              "      <td>1</td>\n",
              "    </tr>\n",
              "    <tr>\n",
              "      <th>238517</th>\n",
              "      <td>shreveport will receive   million for improvem...</td>\n",
              "      <td>1</td>\n",
              "    </tr>\n",
              "    <tr>\n",
              "      <th>83322</th>\n",
              "      <td>hopefully optimistic! however, this is polit...</td>\n",
              "      <td>0</td>\n",
              "    </tr>\n",
              "    <tr>\n",
              "      <th>70953</th>\n",
              "      <td>multilingual news service hindi 04 november 21...</td>\n",
              "      <td>1</td>\n",
              "    </tr>\n",
              "    <tr>\n",
              "      <th>88626</th>\n",
              "      <td>homeserve steams ahead with heat pump drive ne...</td>\n",
              "      <td>1</td>\n",
              "    </tr>\n",
              "    <tr>\n",
              "      <th>184148</th>\n",
              "      <td>i do not know who needs to hear this but... do...</td>\n",
              "      <td>0</td>\n",
              "    </tr>\n",
              "    <tr>\n",
              "      <th>210706</th>\n",
              "      <td>i would suck bill clinton’s dick for a klondik...</td>\n",
              "      <td>1</td>\n",
              "    </tr>\n",
              "    <tr>\n",
              "      <th>84660</th>\n",
              "      <td>apga leads in awka south - anambra election -</td>\n",
              "      <td>1</td>\n",
              "    </tr>\n",
              "    <tr>\n",
              "      <th>107132</th>\n",
              "      <td>latest on the debt ceiling</td>\n",
              "      <td>1</td>\n",
              "    </tr>\n",
              "    <tr>\n",
              "      <th>10558</th>\n",
              "      <td>delhikathug delhities you have been sold!! thi...</td>\n",
              "      <td>0</td>\n",
              "    </tr>\n",
              "    <tr>\n",
              "      <th>171100</th>\n",
              "      <td>covid safe voting in ludhiana punjab but what ...</td>\n",
              "      <td>0</td>\n",
              "    </tr>\n",
              "    <tr>\n",
              "      <th>216583</th>\n",
              "      <td>deceit, deception, greed and lies are not part...</td>\n",
              "      <td>0</td>\n",
              "    </tr>\n",
              "    <tr>\n",
              "      <th>151988</th>\n",
              "      <td>in south cyprus inflation reached to 5.4% in j...</td>\n",
              "      <td>0</td>\n",
              "    </tr>\n",
              "    <tr>\n",
              "      <th>82573</th>\n",
              "      <td>\"..not those set down in a catalogue. these re...</td>\n",
              "      <td>0</td>\n",
              "    </tr>\n",
              "    <tr>\n",
              "      <th>228871</th>\n",
              "      <td>‘antebellum’ and the horrors of history that p...</td>\n",
              "      <td>1</td>\n",
              "    </tr>\n",
              "    <tr>\n",
              "      <th>34754</th>\n",
              "      <td>artificialintelligence healthcare gdpr opinion...</td>\n",
              "      <td>1</td>\n",
              "    </tr>\n",
              "    <tr>\n",
              "      <th>29257</th>\n",
              "      <td>china ccp's usual delusion or mythomania. the ...</td>\n",
              "      <td>1</td>\n",
              "    </tr>\n",
              "    <tr>\n",
              "      <th>66733</th>\n",
              "      <td>of passionate politics – northwest arkansas de...</td>\n",
              "      <td>0</td>\n",
              "    </tr>\n",
              "    <tr>\n",
              "      <th>131241</th>\n",
              "      <td>via  : defiant maga candidate replaces prohibi...</td>\n",
              "      <td>1</td>\n",
              "    </tr>\n",
              "    <tr>\n",
              "      <th>171775</th>\n",
              "      <td>via  : chicago cops, firefighters busted for d...</td>\n",
              "      <td>1</td>\n",
              "    </tr>\n",
              "    <tr>\n",
              "      <th>62</th>\n",
              "      <td>federal eviction moratorium expiring july 31</td>\n",
              "      <td>0</td>\n",
              "    </tr>\n",
              "    <tr>\n",
              "      <th>219284</th>\n",
              "      <td>easier access to corporate information for inv...</td>\n",
              "      <td>1</td>\n",
              "    </tr>\n",
              "    <tr>\n",
              "      <th>134278</th>\n",
              "      <td>via  : russia planning false-flag operation to...</td>\n",
              "      <td>1</td>\n",
              "    </tr>\n",
              "    <tr>\n",
              "      <th>91234</th>\n",
              "      <td>we can’t blame the south alone for anti-tax au...</td>\n",
              "      <td>0</td>\n",
              "    </tr>\n",
              "    <tr>\n",
              "      <th>114804</th>\n",
              "      <td>illiberal death spiral, conversion therapy, go...</td>\n",
              "      <td>1</td>\n",
              "    </tr>\n",
              "    <tr>\n",
              "      <th>197863</th>\n",
              "      <td>margaret beckett: first female foreign secreta...</td>\n",
              "      <td>1</td>\n",
              "    </tr>\n",
              "    <tr>\n",
              "      <th>216879</th>\n",
              "      <td>[ russia ] . thursday, 30 june 2022  35,600 ru...</td>\n",
              "      <td>0</td>\n",
              "    </tr>\n",
              "    <tr>\n",
              "      <th>207793</th>\n",
              "      <td>ganesh wishes to ys vijayamma bandla .. jana s...</td>\n",
              "      <td>1</td>\n",
              "    </tr>\n",
              "    <tr>\n",
              "      <th>196202</th>\n",
              "      <td>securing and protecting bosnia amidst russia’s...</td>\n",
              "      <td>1</td>\n",
              "    </tr>\n",
              "    <tr>\n",
              "      <th>186604</th>\n",
              "      <td>we also discuss the politics of dictionaries. ...</td>\n",
              "      <td>1</td>\n",
              "    </tr>\n",
              "    <tr>\n",
              "      <th>236764</th>\n",
              "      <td>here's what i am gonna do... politics</td>\n",
              "      <td>0</td>\n",
              "    </tr>\n",
              "    <tr>\n",
              "      <th>160888</th>\n",
              "      <td>japan, eu arrange additional lng supplies to e...</td>\n",
              "      <td>1</td>\n",
              "    </tr>\n",
              "    <tr>\n",
              "      <th>11113</th>\n",
              "      <td>the paradox of wealth</td>\n",
              "      <td>1</td>\n",
              "    </tr>\n",
              "    <tr>\n",
              "      <th>901</th>\n",
              "      <td>one hour until the locker room goes live! yes ...</td>\n",
              "      <td>1</td>\n",
              "    </tr>\n",
              "    <tr>\n",
              "      <th>156343</th>\n",
              "      <td>some things in life are more important than po...</td>\n",
              "      <td>1</td>\n",
              "    </tr>\n",
              "    <tr>\n",
              "      <th>194803</th>\n",
              "      <td>elections chief: people voting by mail are mis...</td>\n",
              "      <td>0</td>\n",
              "    </tr>\n",
              "    <tr>\n",
              "      <th>219664</th>\n",
              "      <td>nagorno-karabakh: new ceasefire struck but aze...</td>\n",
              "      <td>1</td>\n",
              "    </tr>\n",
              "    <tr>\n",
              "      <th>148999</th>\n",
              "      <td>jason kenney ready to announce plans at 5pm to...</td>\n",
              "      <td>0</td>\n",
              "    </tr>\n",
              "  </tbody>\n",
              "</table>\n",
              "</div>\n",
              "      <button class=\"colab-df-convert\" onclick=\"convertToInteractive('df-ae3566a4-bad4-4766-8d30-292cb1bd61de')\"\n",
              "              title=\"Convert this dataframe to an interactive table.\"\n",
              "              style=\"display:none;\">\n",
              "        \n",
              "  <svg xmlns=\"http://www.w3.org/2000/svg\" height=\"24px\"viewBox=\"0 0 24 24\"\n",
              "       width=\"24px\">\n",
              "    <path d=\"M0 0h24v24H0V0z\" fill=\"none\"/>\n",
              "    <path d=\"M18.56 5.44l.94 2.06.94-2.06 2.06-.94-2.06-.94-.94-2.06-.94 2.06-2.06.94zm-11 1L8.5 8.5l.94-2.06 2.06-.94-2.06-.94L8.5 2.5l-.94 2.06-2.06.94zm10 10l.94 2.06.94-2.06 2.06-.94-2.06-.94-.94-2.06-.94 2.06-2.06.94z\"/><path d=\"M17.41 7.96l-1.37-1.37c-.4-.4-.92-.59-1.43-.59-.52 0-1.04.2-1.43.59L10.3 9.45l-7.72 7.72c-.78.78-.78 2.05 0 2.83L4 21.41c.39.39.9.59 1.41.59.51 0 1.02-.2 1.41-.59l7.78-7.78 2.81-2.81c.8-.78.8-2.07 0-2.86zM5.41 20L4 18.59l7.72-7.72 1.47 1.35L5.41 20z\"/>\n",
              "  </svg>\n",
              "      </button>\n",
              "      \n",
              "  <style>\n",
              "    .colab-df-container {\n",
              "      display:flex;\n",
              "      flex-wrap:wrap;\n",
              "      gap: 12px;\n",
              "    }\n",
              "\n",
              "    .colab-df-convert {\n",
              "      background-color: #E8F0FE;\n",
              "      border: none;\n",
              "      border-radius: 50%;\n",
              "      cursor: pointer;\n",
              "      display: none;\n",
              "      fill: #1967D2;\n",
              "      height: 32px;\n",
              "      padding: 0 0 0 0;\n",
              "      width: 32px;\n",
              "    }\n",
              "\n",
              "    .colab-df-convert:hover {\n",
              "      background-color: #E2EBFA;\n",
              "      box-shadow: 0px 1px 2px rgba(60, 64, 67, 0.3), 0px 1px 3px 1px rgba(60, 64, 67, 0.15);\n",
              "      fill: #174EA6;\n",
              "    }\n",
              "\n",
              "    [theme=dark] .colab-df-convert {\n",
              "      background-color: #3B4455;\n",
              "      fill: #D2E3FC;\n",
              "    }\n",
              "\n",
              "    [theme=dark] .colab-df-convert:hover {\n",
              "      background-color: #434B5C;\n",
              "      box-shadow: 0px 1px 3px 1px rgba(0, 0, 0, 0.15);\n",
              "      filter: drop-shadow(0px 1px 2px rgba(0, 0, 0, 0.3));\n",
              "      fill: #FFFFFF;\n",
              "    }\n",
              "  </style>\n",
              "\n",
              "      <script>\n",
              "        const buttonEl =\n",
              "          document.querySelector('#df-ae3566a4-bad4-4766-8d30-292cb1bd61de button.colab-df-convert');\n",
              "        buttonEl.style.display =\n",
              "          google.colab.kernel.accessAllowed ? 'block' : 'none';\n",
              "\n",
              "        async function convertToInteractive(key) {\n",
              "          const element = document.querySelector('#df-ae3566a4-bad4-4766-8d30-292cb1bd61de');\n",
              "          const dataTable =\n",
              "            await google.colab.kernel.invokeFunction('convertToInteractive',\n",
              "                                                     [key], {});\n",
              "          if (!dataTable) return;\n",
              "\n",
              "          const docLinkHtml = 'Like what you see? Visit the ' +\n",
              "            '<a target=\"_blank\" href=https://colab.research.google.com/notebooks/data_table.ipynb>data table notebook</a>'\n",
              "            + ' to learn more about interactive tables.';\n",
              "          element.innerHTML = '';\n",
              "          dataTable['output_type'] = 'display_data';\n",
              "          await google.colab.output.renderOutput(dataTable, element);\n",
              "          const docLink = document.createElement('div');\n",
              "          docLink.innerHTML = docLinkHtml;\n",
              "          element.appendChild(docLink);\n",
              "        }\n",
              "      </script>\n",
              "    </div>\n",
              "  </div>\n",
              "  "
            ]
          },
          "metadata": {},
          "execution_count": 437
        }
      ]
    },
    {
      "cell_type": "code",
      "source": [],
      "metadata": {
        "id": "k11B-7VTn9OB"
      },
      "execution_count": null,
      "outputs": []
    }
  ]
}